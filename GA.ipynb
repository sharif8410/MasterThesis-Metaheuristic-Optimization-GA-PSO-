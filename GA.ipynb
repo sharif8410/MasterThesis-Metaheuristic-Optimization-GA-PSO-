{
 "cells": [
  {
   "cell_type": "code",
   "execution_count": 1,
   "metadata": {
    "id": "2OSyEQpULIc7"
   },
   "outputs": [],
   "source": [
    "demand = [990,1980,3961,2971,1980]   \n",
    "d=0  # d% shortage allowance\n",
    "Y_b = [1.3086,1.3671,1.4183,1.4538,1.5122]           # Fabric yield (consumption rate) rate per garment of size 𝛽\n",
    "f= 1.95 # Fabric cost \n",
    "\n",
    "U = 0.85\n",
    "l_max= 20  #yrds\n",
    "e= .083   # Fabric end allowance in yrds\n",
    "\n",
    "if len(demand)!=len(Y_b):\n",
    "    raise ValueError('number of sizes and number of fabric consumption does not match')\n",
    "\n",
    "#Input variables (Marker)\n",
    "\n",
    "M_d = 10                                # Average marker design time (minute)\n",
    "z = 0.60                                # Printing speed per minute\n",
    "vv = 0.42                                #Standard cost per minute in marker making floor (labor, machine & electricity)\n",
    "\n",
    "\n",
    "#Input variables (Cutting Time)\n",
    "\n",
    "T_G = 30                                  # General Preparation Time\n",
    "xx= 9.908           # Average spreading speed in minutes after taking account for the idle strokes. \n",
    "T_M= 4           # Time for Placement of the marker\n",
    "t_c= 4.73         # SMV of cutting time per garment pattern\n",
    "T_S= 5           # preparation time for sticker placement\n",
    "𝑡_𝑏 = 2.937                               # Standard minute value (SMV) of time takes to bundle.\n",
    "𝑏 =  15                                   # pieces of garments in one bundle\n",
    "ww = 0.30                                 # standard cost per minute in cutting floor (labor, machine & electricity)\n",
    "P_min, P_max= 10,400"
   ]
  },
  {
   "cell_type": "code",
   "execution_count": 2,
   "metadata": {
    "id": "lKoIj6msLIc-"
   },
   "outputs": [],
   "source": [
    "import numpy as np\n",
    "import math\n",
    "from copy import deepcopy\n",
    "import plotly.express as px\n",
    "import random\n",
    "import time\n",
    "rng = np.random.default_rng()\n",
    "import pandas as pd\n",
    "from itertools import product"
   ]
  },
  {
   "cell_type": "code",
   "execution_count": 3,
   "metadata": {
    "id": "up2A5oimLIc_"
   },
   "outputs": [],
   "source": [
    "def Shortage_allowance(Q,d=0.01):\n",
    "    temp=np.dot((1-d),Q)\n",
    "    return [round(i) for i in temp]\n",
    "Q_b= Shortage_allowance(demand,d)\n"
   ]
  },
  {
   "cell_type": "code",
   "execution_count": 4,
   "metadata": {
    "id": "e7L68FYRLIc_"
   },
   "outputs": [],
   "source": [
    "def Update_Res(R,GG,PP):\n",
    "    for s in range(len(GG)): #Updating Residual within the while loop\n",
    "        R=R-np.dot(GG[s],PP[s])\n",
    "    return R"
   ]
  },
  {
   "cell_type": "code",
   "execution_count": 5,
   "metadata": {
    "id": "vjSc_y30LIc_"
   },
   "outputs": [],
   "source": [
    "def Length(g_i_j):\n",
    "    l_i = e+ np.dot(g_i_j,Y_b)/U\n",
    "    return l_i"
   ]
  },
  {
   "cell_type": "code",
   "execution_count": 6,
   "metadata": {
    "colab": {
     "base_uri": "https://localhost:8080/"
    },
    "id": "UvMhnoilLIdA",
    "outputId": "373e8cb9-558d-4de5-9357-1c03e5d0519d"
   },
   "outputs": [],
   "source": [
    "from Heuristics import H1,H3,H5,H3_MB2016,H1_T2020"
   ]
  },
  {
   "cell_type": "markdown",
   "metadata": {
    "id": "sD5MZfVmLIdA"
   },
   "source": [
    "## Crossover from (M'Hallah and Bouziri, 2016, p. 338)"
   ]
  },
  {
   "cell_type": "code",
   "execution_count": 7,
   "metadata": {
    "id": "N5gwdlX7LIdB"
   },
   "outputs": [],
   "source": [
    "def Crossover(Parent_1,Parent_2,crossover_rate=1):\n",
    "    '''\n",
    "    Parent_1,Parent_2 are dictionary containing G_a_b & P_a as values    \n",
    "    '''\n",
    "    \n",
    "    if rng.random() > crossover_rate:\n",
    "        return Parent_1\n",
    "\n",
    "    \n",
    "    G1 = Parent_1['G']\n",
    "    P1 = Parent_1['P'] \n",
    "    G2 = Parent_2['G']\n",
    "    P2 = Parent_2['P']\n",
    "    #print('P1:',P1)\n",
    "\n",
    "    m_1=len(G1)\n",
    "    Beta=len(G1[0])\n",
    "    \n",
    "    \n",
    "    cp=rng.integers(0,m_1,size=2)\n",
    "    cp.sort()    #cp is the cutpoint for crossover\n",
    "\n",
    "    \n",
    "    C_G= G1[cp[0]:cp[1]+1]\n",
    "    C_P= P1[cp[0]:cp[1]+1]\n",
    "\n",
    "\n",
    "    '''a few section is taken from Parent 1'''\n",
    "        \n",
    "\n",
    "    \n",
    "    r_b= Update_Res(Q_b, C_G, C_P)\n",
    "\n",
    "    \n",
    "    '''r_b is the residual demand after few section taken from Parent1'''\n",
    "    \n",
    "    i=0\n",
    "    ''' i is the index number of sections(G) from Parent_2'''\n",
    "    \n",
    "    while max(r_b)>0:\n",
    "        \n",
    "        g_i_j= list (np.zeros(Beta,dtype=int))\n",
    "        \n",
    "        if i<=(len(P2)-1) and max(r_b)>P_min:     \n",
    "            \n",
    "            K=[]\n",
    "            for j in range(Beta):\n",
    "                if G2[i][j]>0:\n",
    "                    K.append(j)\n",
    "            '''K in the list of index where g_i_j of Parent2 is greater than 0'''\n",
    "            \n",
    "            #print(f'G2: {G2} and K:{K}')\n",
    "            try:\n",
    "                GCD= np.gcd.reduce([r_b[k] for k in K if r_b[k]>0])\n",
    "                \n",
    "            except:  #if the list is null\n",
    "                GCD=1 \n",
    "            '''GCD is LCD (r_s : r_s > 0, O_i_s > 0, s ∈ S)  \n",
    "            from (M'Hallah and Bouziri, 2016, p. 338)'''\n",
    "\n",
    "            p_i = max(P_min,min(P2[i],GCD)) ###\n",
    "            \n",
    "            #print(f'-{p_i}-')\n",
    "            for j in K:\n",
    "                '''K in the list of index where g_i_j of Parent2 is greater than 0'''\n",
    "                if r_b[j]>0:\n",
    "                    g_i_j[j]=min(math.floor(r_b[j]/p_i),math.floor((l_max-Length(g_i_j))/(Y_b[j]/U)))\n",
    "                '''else 0'''\n",
    "            \n",
    "            r_b= r_b-np.dot(g_i_j,p_i)\n",
    "     \n",
    "            if max(g_i_j)>0:   #This is to avoid all zero section from adding\n",
    "                C_G.append(g_i_j)\n",
    "                C_P.append(p_i)\n",
    "            i+=1    # goto the next section of Parent2\n",
    "            \n",
    "        else:\n",
    "            p_i=min(P_max,max(P_min,np.gcd.reduce([k for k in r_b if k>0])))\n",
    "            #print(f'+{p_i}+')\n",
    "            for j in range(Beta):\n",
    "                if r_b[j]>0:\n",
    "                    g_i_j[j]=min(math.ceil(r_b[j]/p_i), math.floor((l_max-Length(g_i_j))/(Y_b[j]/U)))\n",
    "                \n",
    "                '''else 0 is already there '''\n",
    "\n",
    "            r_b= r_b-np.dot(g_i_j,p_i)\n",
    "            \n",
    "            if max(g_i_j)>0:\n",
    "                C_G.append(g_i_j)\n",
    "                C_P.append(p_i)\n",
    "            i+=1\n",
    "            #break\n",
    "            \n",
    "    return {'G':C_G,'P':C_P}"
   ]
  },
  {
   "cell_type": "markdown",
   "metadata": {
    "id": "-YpBu2kdLIdB"
   },
   "source": [
    "## Mutation Operator from M&B 2016"
   ]
  },
  {
   "cell_type": "code",
   "execution_count": 8,
   "metadata": {
    "id": "OYbG5hb5LIdB"
   },
   "outputs": [],
   "source": [
    "def mutate(ii,jj,G,P):    \n",
    "\n",
    "    G[ii][jj]=0\n",
    "    r = Update_Res(Q_b,G,P)\n",
    "    Beta=len(G[0])\n",
    "    \n",
    "    if max(r)>0:\n",
    "        II=[x for x in range(len(G)) if x != ii and P[ii] <= max(r)]\n",
    "\n",
    "    while max(r)>0:\n",
    "        if II:\n",
    "\n",
    "            L={s: Length(G[s]) for s in II}\n",
    "            min_L=min(L)\n",
    "            idx= min(L, key=L.get)   #index to the min lengh of the sections \n",
    "\n",
    "            G[idx][jj]= G[idx][jj] + min(math.ceil(r[jj]/P[idx]), math.floor((l_max-Length(G[idx]))/(Y_b[jj]/U)))\n",
    "            \n",
    "\n",
    "            II.remove(idx)  #removing the updated section from II\n",
    "        \n",
    "        else:\n",
    "            #print('create new section')\n",
    "            g= list(np.zeros(Beta,dtype=int))\n",
    "            p= min(P_max,max(P_min,r[jj]))\n",
    "            if p> r[jj]:\n",
    "                g[jj]=1\n",
    "            else:\n",
    "                g[jj]=min(math.floor(r[jj]/p), math.floor(l_max/(Y_b[jj]/U)))  \n",
    "            G.append(g)\n",
    "            P.append(p)\n",
    "            \n",
    "        \n",
    "        r = Update_Res(Q_b,G,P)  #Updating Residual\n",
    "\n",
    "    return G,P\n",
    "\n",
    "\n",
    "def Mutation(Child, mutation_rate=0.05):\n",
    "\n",
    "    temp_Ch=deepcopy(Child)\n",
    "    M_G =temp_Ch['G']\n",
    "    M_P =temp_Ch['P']\n",
    "    Beta=len(M_G[0])\n",
    "    \n",
    "    for i in range(len(M_P)):\n",
    "        for j in range(Beta):\n",
    "            if rng.random()<mutation_rate:\n",
    "                M_G,M_P = mutate(i,j,M_G,M_P)   #user defined fuction\n",
    "\n",
    "    return {'G':M_G,'P':M_P}\n",
    "\n"
   ]
  },
  {
   "cell_type": "markdown",
   "metadata": {
    "id": "qNM7WIs3LIdB"
   },
   "source": [
    "## Objective Function"
   ]
  },
  {
   "cell_type": "code",
   "execution_count": 9,
   "metadata": {
    "id": "OK5A02UlLIdB"
   },
   "outputs": [],
   "source": [
    "def ObjectiveFunction (chromosome):\n",
    "    \n",
    "    G_a_b = chromosome['G']\n",
    "    P_a = chromosome['P']\n",
    "    Alpha = len(P_a)             # number of Sections\n",
    "    \n",
    "\n",
    "    '''                         Fabric Cost                      '''\n",
    "        \n",
    "    # Total fabric length = L # Total Fabric Cost = C_F\n",
    "\n",
    "    l_a=[Length(G_a_b[alpha]) for alpha in range(Alpha) ] #Length function\n",
    "    L= np.dot(l_a,P_a)       #Multiply then Sum\n",
    "    C_F = L*f\n",
    "    #print('Total Fabric Cost = C_F: ',C_F)\n",
    "    \n",
    "    \n",
    "    '''                        Marker Cost                        '''\n",
    "    \n",
    "    #Marker Making Cost = C_M\n",
    "\n",
    "    M_p_a = [(la-e)/z for la in l_a]     # devide each element of a 'l_a' by 'z'\n",
    "    #M_p_a = Marker Printing time (minute) of section alpha \n",
    " \n",
    "    '''\n",
    "    𝑟 = {1 ; 𝑖𝑓 𝑡h𝑒 𝑚𝑎𝑟𝑘𝑒𝑟 𝑖𝑠 𝑏𝑒𝑖𝑛𝑔 𝑢𝑠𝑒𝑑 𝑓𝑜𝑟 𝑡h𝑒 𝑓𝑖𝑟𝑠𝑡 𝑡𝑖𝑚𝑒 \n",
    "        {0 ; 𝑖𝑓 𝑡h𝑒 𝑚𝑎𝑟𝑘𝑒𝑟 h𝑎𝑠 𝑏𝑒𝑒𝑛 𝑢𝑠𝑒𝑑 𝑏𝑒𝑓𝑜𝑟𝑒\n",
    "    '''\n",
    "    r=[]\n",
    "    for i in range(Alpha):\n",
    "        temp=0\n",
    "        j=i-1\n",
    "        while j>=0:\n",
    "            if G_a_b[i]== G_a_b[j]:\n",
    "                temp+=1\n",
    "                break\n",
    "            j-=1\n",
    "        if temp==0:\n",
    "            r.append(1)\n",
    "        else:\n",
    "            r.append(0)\n",
    "\n",
    "    \n",
    "    C_M = 0\n",
    "    for α in range(Alpha):\n",
    "        if l_a[α]>e:   # this makes sure that section has at least one garments \n",
    "            C_M += (M_d*r[α] + M_p_a[α])*vv       \n",
    "    \n",
    "    # 'if la>e' makes sure that the section contain at least one garments, \n",
    "    #  not all G_a_b values are zero\n",
    "    \n",
    "    \n",
    "    '''                          Cutting Cost                            '''\n",
    "        \n",
    "    # Cutting Time of one section = T_T  # Total Cutting Cost = C_C\n",
    "    \n",
    "    #T_T  =T_G + T_F +T_M+ T_c+T_S +T_B\n",
    "    \n",
    "    T_C=[]   #Cutting time for every section\n",
    "    for alpha in range(Alpha):\n",
    "        T_C.append(sum(G_a_b[alpha])*t_c)\n",
    "    \n",
    "    T_F=[]  # Fab spreading time for each section\n",
    "    for α in range(Alpha):\n",
    "        T_F.append(l_a[α]*P_a[α]/xx)\n",
    "    \n",
    "    T_B=[] #Bundleing time for each section\n",
    "    for α in range(Alpha):\n",
    "        T_B.append(math.ceil(P_a[α]/b)*sum(G_a_b[α])*t_b)\n",
    "    \n",
    "    \n",
    "    T_T_T = 0  #Total cutting time\n",
    "    for α in range(Alpha):\n",
    "        if l_a[α]>e:   # this makes sure that section has at least one garments\n",
    "            T_T_T+=T_G+T_F[α]+T_M+T_C[α]+T_S+ T_B[α]\n",
    "    \n",
    "    \n",
    "    C_C = T_T_T*ww  #Total cutting cost\n",
    "    \n",
    "    \n",
    "    \n",
    "    '''                              Total Cost                 '''\n",
    "    # Total Cost = C_T = C_F + C_M + C_C\n",
    "    \n",
    "    return C_F+C_M+C_C"
   ]
  },
  {
   "cell_type": "markdown",
   "metadata": {
    "id": "6VTsI_MILIdC"
   },
   "source": [
    "## Fitness Score"
   ]
  },
  {
   "cell_type": "code",
   "execution_count": 10,
   "metadata": {
    "id": "djwBa-ORLIdC"
   },
   "outputs": [],
   "source": [
    "def Fitness(chromosome): \n",
    "  \n",
    "    G_a_b= chromosome['G']\n",
    "    P_a = chromosome['P']\n",
    "    Beta= len(G_a_b[0])\n",
    "    \n",
    "    score= ObjectiveFunction(chromosome)\n",
    "    #print('score:',score)\n",
    "    fitness_score=score\n",
    "    \n",
    "                \n",
    "    '''       Penalty for shortage production           '''\n",
    "    R= Update_Res(R=demand,GG=G_a_b,PP=P_a)\n",
    "    for beta in range(Beta):\n",
    "        if R[beta]>0:\n",
    "            s_penalty= R[beta]/sum(demand)\n",
    "            fitness_score +=score*s_penalty/2 \n",
    "    \n",
    "    \n",
    "    '''         Penalty for excess production           '''\n",
    "    r=np.dot(1.02,demand)         # additional 2% allowance\n",
    "    R= Update_Res(R=r,GG=G_a_b,PP=P_a)\n",
    "    #print(R)\n",
    "    for beta in range(Beta):\n",
    "        if R[beta]<0:\n",
    "            e_penalty= (-R[beta]/sum(demand))   # 2times than s_penalty\n",
    "            fitness_score +=score*e_penalty   \n",
    "            \n",
    "    \n",
    "    '''       double check if the solution is valid       '''\n",
    "    res= Update_Res(R=Q_b,GG=G_a_b,PP=P_a)\n",
    "    if max(res)>0:\n",
    "        print('solution is unvalid in demand constraint')\n",
    "        fitness_score +=10000   #this will eventualy make the solution extinct.\n",
    "\n",
    "    for i in G_a_b:\n",
    "        if Length(i)>l_max:\n",
    "            print('breaking !! fitness !! solution is not valid in length constraint: ',i, Y_b, l_max,Length(i))\n",
    "            fitness_score +=10000\n",
    "    \n",
    "    return fitness_score\n",
    "\n",
    "# Fitness(Sol_1)    "
   ]
  },
  {
   "cell_type": "markdown",
   "metadata": {
    "id": "6T19lDiJLIdC"
   },
   "source": [
    "## Function Initial Population Generation"
   ]
  },
  {
   "cell_type": "code",
   "execution_count": 11,
   "metadata": {
    "colab": {
     "base_uri": "https://localhost:8080/"
    },
    "id": "8xlMO7H9LIdC",
    "outputId": "83a80528-2184-4215-ef79-41f4207d822c"
   },
   "outputs": [],
   "source": [
    "def GeneratePopulation(pop_size):\n",
    "    sol1=H3_MB2016(Q=Q_b,Y=Y_b,Pm=[P_min,P_max],U=U,l_max=l_max,e=e)\n",
    "    sol2=H1_T2020(Q=Q_b,Y=Y_b,Pm=[P_min,P_max],U=U,l_max=l_max,e=e)\n",
    "    P_of_S=[]\n",
    "    for sol in (sol1,sol2):\n",
    "        i=0\n",
    "        for g in sol['G']:\n",
    "            if Length(g)>l_max:\n",
    "                i+=1\n",
    "        if i==0:\n",
    "            P_of_S.append(sol)\n",
    "    \n",
    "    while len(P_of_S)<pop_size:\n",
    "        h=rng.integers(0,3)\n",
    "        #print('h:',h)\n",
    "        if h==0:\n",
    "            sol= H1(Q=Q_b,Y=Y_b,Pm=[P_min,P_max],U=U,e=e,l_max=l_max)\n",
    "\n",
    "        elif h==1:\n",
    "            sol=H3(Q=Q_b,Y=Y_b,Pm=[P_min,P_max],U=U,e=e,l_max=l_max)\n",
    "\n",
    "        else:\n",
    "            sol=H5(Q=Q_b,Y=Y_b,Pm=[P_min,P_max],U=U,e=e,l_max=l_max)\n",
    "        i=0\n",
    "        for g in sol['G']:\n",
    "            if Length(g)>l_max:\n",
    "                i+=1\n",
    "        if i==0:\n",
    "            P_of_S.append(sol)\n",
    "    return P_of_S\n",
    "#Pool_of_Sol= GeneratePopulation(50)\n",
    "#len(Pool_of_Sol)"
   ]
  },
  {
   "cell_type": "code",
   "execution_count": 12,
   "metadata": {
    "id": "Ee2KsWV1LIdC"
   },
   "outputs": [],
   "source": [
    "def S_with_F(p_o_s):\n",
    "    for i in range(len(p_o_s)): \n",
    "        if 'F' not in p_o_s[i]:\n",
    "            p_o_s[i]['F']=Fitness(p_o_s[i])\n",
    "    return p_o_s"
   ]
  },
  {
   "cell_type": "code",
   "execution_count": 13,
   "metadata": {
    "colab": {
     "base_uri": "https://localhost:8080/"
    },
    "id": "xfr3Ts2oLIdC",
    "outputId": "33bcc33e-65b3-469b-813b-b548f317cafd"
   },
   "outputs": [],
   "source": [
    "# P_of_S_with_F= S_with_F(Pool_of_Sol)\n",
    "# print(type(P_of_S_with_F))"
   ]
  },
  {
   "cell_type": "markdown",
   "metadata": {
    "id": "LBH1xeSgLIdC"
   },
   "source": [
    "## Tournament Selection"
   ]
  },
  {
   "cell_type": "code",
   "execution_count": 14,
   "metadata": {
    "id": "CAeF1T3bLIdC"
   },
   "outputs": [],
   "source": [
    "def TournamentSelection(sol_list, k=3):\n",
    "    '''\n",
    "    k= number of random parents that take part in one tournament\n",
    "    '''\n",
    "\n",
    "    indexes= rng.integers(0,len(sol_list), size=k) \n",
    "    \n",
    "    psbl_parents = [sol_list[i] for i in indexes]\n",
    "    \n",
    "    psbl_parents = sorted(psbl_parents, key=lambda d: d['F'])\n",
    "    return deepcopy(psbl_parents[0])\n"
   ]
  },
  {
   "cell_type": "markdown",
   "metadata": {
    "id": "nU-n1N-uLIdD"
   },
   "source": [
    "## GA with TS"
   ]
  },
  {
   "cell_type": "code",
   "execution_count": 16,
   "metadata": {
    "id": "AKLHg3FkLIdD"
   },
   "outputs": [],
   "source": [
    "def GA_with_TS(pop_size, generation,k=3,m_rate=0.05,c_rate=0.95):\n",
    "    \n",
    "    pool_of_sol= GeneratePopulation(pop_size)\n",
    "    pool_of_sol= S_with_F(pool_of_sol)\n",
    "    bests=[]\n",
    "    sc=0\n",
    "    for g in range(generation):\n",
    "        for p in range(pop_size):\n",
    "            Parent1,Parent2= [TournamentSelection(pool_of_sol,k=k)for i in range(2)]\n",
    "            child = Crossover(Parent1, Parent2, crossover_rate=c_rate)\n",
    "            mutated_child=Mutation(child,mutation_rate=m_rate)\n",
    "            mutated_child['F']=Fitness(mutated_child)\n",
    "            pool_of_sol.append(mutated_child)\n",
    "        \n",
    "        pool_of_sol= sorted(pool_of_sol, key=lambda d: d['F'])\n",
    "        pool_of_sol = pool_of_sol[:pop_size]\n",
    "        \n",
    "        if bests:\n",
    "            if bests[-1]['F']> pool_of_sol[0]['F']:\n",
    "                sc=g\n",
    "        bests.append(pool_of_sol[0])\n",
    "        \n",
    "\n",
    "    # xx=[i for i in range(len(bests))]\n",
    "    # yy=[bests[i]['F'] for i in range(len(bests))]\n",
    "    # fig=px.line(x=xx,\n",
    "    #             y=yy,\n",
    "    #             title=f'pop_size={pop_size},generation= {generation},k={k},mu_rate= {m_rate},c_rate={c_rate}, best={yy[-1]}, sc={sc}',\n",
    "    #             labels=dict(x='generation',y='fitness'))\n",
    "    # fig.show()\n",
    "    \n",
    "    return bests[-1],sc"
   ]
  },
  {
   "cell_type": "code",
   "execution_count": 17,
   "metadata": {
    "colab": {
     "base_uri": "https://localhost:8080/"
    },
    "id": "sLaxc6ymLIdD",
    "outputId": "d420649a-618d-4e6d-8c5e-f064455cd438"
   },
   "outputs": [],
   "source": [
    "# GA_with_TS(pop_size=100, generation=100)"
   ]
  },
  {
   "cell_type": "markdown",
   "metadata": {
    "id": "8TSlZrVANebL"
   },
   "source": [
    "## Parameter Tuning"
   ]
  },
  {
   "cell_type": "code",
   "execution_count": 18,
   "metadata": {
    "collapsed": true,
    "id": "ft9ZG1P3LIdD"
   },
   "outputs": [
    {
     "ename": "KeyboardInterrupt",
     "evalue": "",
     "output_type": "error",
     "traceback": [
      "\u001b[0;31m---------------------------------------------------------------------------\u001b[0m",
      "\u001b[0;31mKeyboardInterrupt\u001b[0m                         Traceback (most recent call last)",
      "\u001b[0;32m<ipython-input-18-8abedf3b8133>\u001b[0m in \u001b[0;36m<module>\u001b[0;34m\u001b[0m\n\u001b[1;32m     22\u001b[0m         \u001b[0;32mfor\u001b[0m \u001b[0mj\u001b[0m \u001b[0;32min\u001b[0m \u001b[0mrange\u001b[0m\u001b[0;34m(\u001b[0m\u001b[0;36m5\u001b[0m\u001b[0;34m)\u001b[0m\u001b[0;34m:\u001b[0m\u001b[0;34m\u001b[0m\u001b[0;34m\u001b[0m\u001b[0m\n\u001b[1;32m     23\u001b[0m             \u001b[0mtime_start\u001b[0m \u001b[0;34m=\u001b[0m \u001b[0mtime\u001b[0m\u001b[0;34m.\u001b[0m\u001b[0mperf_counter\u001b[0m\u001b[0;34m(\u001b[0m\u001b[0;34m)\u001b[0m\u001b[0;34m\u001b[0m\u001b[0;34m\u001b[0m\u001b[0m\n\u001b[0;32m---> 24\u001b[0;31m             \u001b[0mGbest\u001b[0m\u001b[0;34m,\u001b[0m\u001b[0msc\u001b[0m \u001b[0;34m=\u001b[0m \u001b[0mGA_with_TS\u001b[0m\u001b[0;34m(\u001b[0m\u001b[0mpop_size\u001b[0m\u001b[0;34m=\u001b[0m\u001b[0;36m200\u001b[0m\u001b[0;34m,\u001b[0m \u001b[0mgeneration\u001b[0m\u001b[0;34m=\u001b[0m\u001b[0;36m180\u001b[0m\u001b[0;34m,\u001b[0m\u001b[0mk\u001b[0m\u001b[0;34m=\u001b[0m\u001b[0mk\u001b[0m\u001b[0;34m,\u001b[0m\u001b[0mm_rate\u001b[0m\u001b[0;34m=\u001b[0m\u001b[0mm_rate\u001b[0m\u001b[0;34m,\u001b[0m\u001b[0mc_rate\u001b[0m\u001b[0;34m=\u001b[0m\u001b[0mc_rate\u001b[0m\u001b[0;34m)\u001b[0m\u001b[0;34m\u001b[0m\u001b[0;34m\u001b[0m\u001b[0m\n\u001b[0m\u001b[1;32m     25\u001b[0m             \u001b[0mtime_elapsed\u001b[0m \u001b[0;34m=\u001b[0m \u001b[0;34m(\u001b[0m\u001b[0mtime\u001b[0m\u001b[0;34m.\u001b[0m\u001b[0mperf_counter\u001b[0m\u001b[0;34m(\u001b[0m\u001b[0;34m)\u001b[0m \u001b[0;34m-\u001b[0m \u001b[0mtime_start\u001b[0m\u001b[0;34m)\u001b[0m\u001b[0;34m\u001b[0m\u001b[0;34m\u001b[0m\u001b[0m\n\u001b[1;32m     26\u001b[0m             df=df.append({'demand':demand,'k':k,'sol':Gbest,'c_rate':c_rate,'m_rate': m_rate, \n",
      "\u001b[0;32m<ipython-input-16-07dc4e5bd658>\u001b[0m in \u001b[0;36mGA_with_TS\u001b[0;34m(pop_size, generation, k, m_rate, c_rate)\u001b[0m\n\u001b[1;32m      7\u001b[0m     \u001b[0;32mfor\u001b[0m \u001b[0mg\u001b[0m \u001b[0;32min\u001b[0m \u001b[0mrange\u001b[0m\u001b[0;34m(\u001b[0m\u001b[0mgeneration\u001b[0m\u001b[0;34m)\u001b[0m\u001b[0;34m:\u001b[0m\u001b[0;34m\u001b[0m\u001b[0;34m\u001b[0m\u001b[0m\n\u001b[1;32m      8\u001b[0m         \u001b[0;32mfor\u001b[0m \u001b[0mp\u001b[0m \u001b[0;32min\u001b[0m \u001b[0mrange\u001b[0m\u001b[0;34m(\u001b[0m\u001b[0mpop_size\u001b[0m\u001b[0;34m)\u001b[0m\u001b[0;34m:\u001b[0m\u001b[0;34m\u001b[0m\u001b[0;34m\u001b[0m\u001b[0m\n\u001b[0;32m----> 9\u001b[0;31m             \u001b[0mParent1\u001b[0m\u001b[0;34m,\u001b[0m\u001b[0mParent2\u001b[0m\u001b[0;34m=\u001b[0m \u001b[0;34m[\u001b[0m\u001b[0mTournamentSelection\u001b[0m\u001b[0;34m(\u001b[0m\u001b[0mpool_of_sol\u001b[0m\u001b[0;34m,\u001b[0m\u001b[0mk\u001b[0m\u001b[0;34m=\u001b[0m\u001b[0mk\u001b[0m\u001b[0;34m)\u001b[0m\u001b[0;32mfor\u001b[0m \u001b[0mi\u001b[0m \u001b[0;32min\u001b[0m \u001b[0mrange\u001b[0m\u001b[0;34m(\u001b[0m\u001b[0;36m2\u001b[0m\u001b[0;34m)\u001b[0m\u001b[0;34m]\u001b[0m\u001b[0;34m\u001b[0m\u001b[0;34m\u001b[0m\u001b[0m\n\u001b[0m\u001b[1;32m     10\u001b[0m             \u001b[0mchild\u001b[0m \u001b[0;34m=\u001b[0m \u001b[0mCrossover\u001b[0m\u001b[0;34m(\u001b[0m\u001b[0mParent1\u001b[0m\u001b[0;34m,\u001b[0m \u001b[0mParent2\u001b[0m\u001b[0;34m,\u001b[0m \u001b[0mcrossover_rate\u001b[0m\u001b[0;34m=\u001b[0m\u001b[0mc_rate\u001b[0m\u001b[0;34m)\u001b[0m\u001b[0;34m\u001b[0m\u001b[0;34m\u001b[0m\u001b[0m\n\u001b[1;32m     11\u001b[0m             \u001b[0mmutated_child\u001b[0m\u001b[0;34m=\u001b[0m\u001b[0mMutation\u001b[0m\u001b[0;34m(\u001b[0m\u001b[0mchild\u001b[0m\u001b[0;34m,\u001b[0m\u001b[0mmutation_rate\u001b[0m\u001b[0;34m=\u001b[0m\u001b[0mm_rate\u001b[0m\u001b[0;34m)\u001b[0m\u001b[0;34m\u001b[0m\u001b[0;34m\u001b[0m\u001b[0m\n",
      "\u001b[0;32m<ipython-input-16-07dc4e5bd658>\u001b[0m in \u001b[0;36m<listcomp>\u001b[0;34m(.0)\u001b[0m\n\u001b[1;32m      7\u001b[0m     \u001b[0;32mfor\u001b[0m \u001b[0mg\u001b[0m \u001b[0;32min\u001b[0m \u001b[0mrange\u001b[0m\u001b[0;34m(\u001b[0m\u001b[0mgeneration\u001b[0m\u001b[0;34m)\u001b[0m\u001b[0;34m:\u001b[0m\u001b[0;34m\u001b[0m\u001b[0;34m\u001b[0m\u001b[0m\n\u001b[1;32m      8\u001b[0m         \u001b[0;32mfor\u001b[0m \u001b[0mp\u001b[0m \u001b[0;32min\u001b[0m \u001b[0mrange\u001b[0m\u001b[0;34m(\u001b[0m\u001b[0mpop_size\u001b[0m\u001b[0;34m)\u001b[0m\u001b[0;34m:\u001b[0m\u001b[0;34m\u001b[0m\u001b[0;34m\u001b[0m\u001b[0m\n\u001b[0;32m----> 9\u001b[0;31m             \u001b[0mParent1\u001b[0m\u001b[0;34m,\u001b[0m\u001b[0mParent2\u001b[0m\u001b[0;34m=\u001b[0m \u001b[0;34m[\u001b[0m\u001b[0mTournamentSelection\u001b[0m\u001b[0;34m(\u001b[0m\u001b[0mpool_of_sol\u001b[0m\u001b[0;34m,\u001b[0m\u001b[0mk\u001b[0m\u001b[0;34m=\u001b[0m\u001b[0mk\u001b[0m\u001b[0;34m)\u001b[0m\u001b[0;32mfor\u001b[0m \u001b[0mi\u001b[0m \u001b[0;32min\u001b[0m \u001b[0mrange\u001b[0m\u001b[0;34m(\u001b[0m\u001b[0;36m2\u001b[0m\u001b[0;34m)\u001b[0m\u001b[0;34m]\u001b[0m\u001b[0;34m\u001b[0m\u001b[0;34m\u001b[0m\u001b[0m\n\u001b[0m\u001b[1;32m     10\u001b[0m             \u001b[0mchild\u001b[0m \u001b[0;34m=\u001b[0m \u001b[0mCrossover\u001b[0m\u001b[0;34m(\u001b[0m\u001b[0mParent1\u001b[0m\u001b[0;34m,\u001b[0m \u001b[0mParent2\u001b[0m\u001b[0;34m,\u001b[0m \u001b[0mcrossover_rate\u001b[0m\u001b[0;34m=\u001b[0m\u001b[0mc_rate\u001b[0m\u001b[0;34m)\u001b[0m\u001b[0;34m\u001b[0m\u001b[0;34m\u001b[0m\u001b[0m\n\u001b[1;32m     11\u001b[0m             \u001b[0mmutated_child\u001b[0m\u001b[0;34m=\u001b[0m\u001b[0mMutation\u001b[0m\u001b[0;34m(\u001b[0m\u001b[0mchild\u001b[0m\u001b[0;34m,\u001b[0m\u001b[0mmutation_rate\u001b[0m\u001b[0;34m=\u001b[0m\u001b[0mm_rate\u001b[0m\u001b[0;34m)\u001b[0m\u001b[0;34m\u001b[0m\u001b[0;34m\u001b[0m\u001b[0m\n",
      "\u001b[0;32m<ipython-input-14-4ae749320fae>\u001b[0m in \u001b[0;36mTournamentSelection\u001b[0;34m(sol_list, k)\u001b[0m\n\u001b[1;32m      9\u001b[0m \u001b[0;34m\u001b[0m\u001b[0m\n\u001b[1;32m     10\u001b[0m     \u001b[0mpsbl_parents\u001b[0m \u001b[0;34m=\u001b[0m \u001b[0msorted\u001b[0m\u001b[0;34m(\u001b[0m\u001b[0mpsbl_parents\u001b[0m\u001b[0;34m,\u001b[0m \u001b[0mkey\u001b[0m\u001b[0;34m=\u001b[0m\u001b[0;32mlambda\u001b[0m \u001b[0md\u001b[0m\u001b[0;34m:\u001b[0m \u001b[0md\u001b[0m\u001b[0;34m[\u001b[0m\u001b[0;34m'F'\u001b[0m\u001b[0;34m]\u001b[0m\u001b[0;34m)\u001b[0m\u001b[0;34m\u001b[0m\u001b[0;34m\u001b[0m\u001b[0m\n\u001b[0;32m---> 11\u001b[0;31m     \u001b[0;32mreturn\u001b[0m \u001b[0mdeepcopy\u001b[0m\u001b[0;34m(\u001b[0m\u001b[0mpsbl_parents\u001b[0m\u001b[0;34m[\u001b[0m\u001b[0;36m0\u001b[0m\u001b[0;34m]\u001b[0m\u001b[0;34m)\u001b[0m\u001b[0;34m\u001b[0m\u001b[0;34m\u001b[0m\u001b[0m\n\u001b[0m",
      "\u001b[0;32m~/opt/anaconda3/lib/python3.8/copy.py\u001b[0m in \u001b[0;36mdeepcopy\u001b[0;34m(x, memo, _nil)\u001b[0m\n\u001b[1;32m    144\u001b[0m     \u001b[0mcopier\u001b[0m \u001b[0;34m=\u001b[0m \u001b[0m_deepcopy_dispatch\u001b[0m\u001b[0;34m.\u001b[0m\u001b[0mget\u001b[0m\u001b[0;34m(\u001b[0m\u001b[0mcls\u001b[0m\u001b[0;34m)\u001b[0m\u001b[0;34m\u001b[0m\u001b[0;34m\u001b[0m\u001b[0m\n\u001b[1;32m    145\u001b[0m     \u001b[0;32mif\u001b[0m \u001b[0mcopier\u001b[0m \u001b[0;32mis\u001b[0m \u001b[0;32mnot\u001b[0m \u001b[0;32mNone\u001b[0m\u001b[0;34m:\u001b[0m\u001b[0;34m\u001b[0m\u001b[0;34m\u001b[0m\u001b[0m\n\u001b[0;32m--> 146\u001b[0;31m         \u001b[0my\u001b[0m \u001b[0;34m=\u001b[0m \u001b[0mcopier\u001b[0m\u001b[0;34m(\u001b[0m\u001b[0mx\u001b[0m\u001b[0;34m,\u001b[0m \u001b[0mmemo\u001b[0m\u001b[0;34m)\u001b[0m\u001b[0;34m\u001b[0m\u001b[0;34m\u001b[0m\u001b[0m\n\u001b[0m\u001b[1;32m    147\u001b[0m     \u001b[0;32melse\u001b[0m\u001b[0;34m:\u001b[0m\u001b[0;34m\u001b[0m\u001b[0;34m\u001b[0m\u001b[0m\n\u001b[1;32m    148\u001b[0m         \u001b[0;32mif\u001b[0m \u001b[0missubclass\u001b[0m\u001b[0;34m(\u001b[0m\u001b[0mcls\u001b[0m\u001b[0;34m,\u001b[0m \u001b[0mtype\u001b[0m\u001b[0;34m)\u001b[0m\u001b[0;34m:\u001b[0m\u001b[0;34m\u001b[0m\u001b[0;34m\u001b[0m\u001b[0m\n",
      "\u001b[0;32m~/opt/anaconda3/lib/python3.8/copy.py\u001b[0m in \u001b[0;36m_deepcopy_dict\u001b[0;34m(x, memo, deepcopy)\u001b[0m\n\u001b[1;32m    228\u001b[0m     \u001b[0mmemo\u001b[0m\u001b[0;34m[\u001b[0m\u001b[0mid\u001b[0m\u001b[0;34m(\u001b[0m\u001b[0mx\u001b[0m\u001b[0;34m)\u001b[0m\u001b[0;34m]\u001b[0m \u001b[0;34m=\u001b[0m \u001b[0my\u001b[0m\u001b[0;34m\u001b[0m\u001b[0;34m\u001b[0m\u001b[0m\n\u001b[1;32m    229\u001b[0m     \u001b[0;32mfor\u001b[0m \u001b[0mkey\u001b[0m\u001b[0;34m,\u001b[0m \u001b[0mvalue\u001b[0m \u001b[0;32min\u001b[0m \u001b[0mx\u001b[0m\u001b[0;34m.\u001b[0m\u001b[0mitems\u001b[0m\u001b[0;34m(\u001b[0m\u001b[0;34m)\u001b[0m\u001b[0;34m:\u001b[0m\u001b[0;34m\u001b[0m\u001b[0;34m\u001b[0m\u001b[0m\n\u001b[0;32m--> 230\u001b[0;31m         \u001b[0my\u001b[0m\u001b[0;34m[\u001b[0m\u001b[0mdeepcopy\u001b[0m\u001b[0;34m(\u001b[0m\u001b[0mkey\u001b[0m\u001b[0;34m,\u001b[0m \u001b[0mmemo\u001b[0m\u001b[0;34m)\u001b[0m\u001b[0;34m]\u001b[0m \u001b[0;34m=\u001b[0m \u001b[0mdeepcopy\u001b[0m\u001b[0;34m(\u001b[0m\u001b[0mvalue\u001b[0m\u001b[0;34m,\u001b[0m \u001b[0mmemo\u001b[0m\u001b[0;34m)\u001b[0m\u001b[0;34m\u001b[0m\u001b[0;34m\u001b[0m\u001b[0m\n\u001b[0m\u001b[1;32m    231\u001b[0m     \u001b[0;32mreturn\u001b[0m \u001b[0my\u001b[0m\u001b[0;34m\u001b[0m\u001b[0;34m\u001b[0m\u001b[0m\n\u001b[1;32m    232\u001b[0m \u001b[0md\u001b[0m\u001b[0;34m[\u001b[0m\u001b[0mdict\u001b[0m\u001b[0;34m]\u001b[0m \u001b[0;34m=\u001b[0m \u001b[0m_deepcopy_dict\u001b[0m\u001b[0;34m\u001b[0m\u001b[0;34m\u001b[0m\u001b[0m\n",
      "\u001b[0;32m~/opt/anaconda3/lib/python3.8/copy.py\u001b[0m in \u001b[0;36mdeepcopy\u001b[0;34m(x, memo, _nil)\u001b[0m\n\u001b[1;32m    144\u001b[0m     \u001b[0mcopier\u001b[0m \u001b[0;34m=\u001b[0m \u001b[0m_deepcopy_dispatch\u001b[0m\u001b[0;34m.\u001b[0m\u001b[0mget\u001b[0m\u001b[0;34m(\u001b[0m\u001b[0mcls\u001b[0m\u001b[0;34m)\u001b[0m\u001b[0;34m\u001b[0m\u001b[0;34m\u001b[0m\u001b[0m\n\u001b[1;32m    145\u001b[0m     \u001b[0;32mif\u001b[0m \u001b[0mcopier\u001b[0m \u001b[0;32mis\u001b[0m \u001b[0;32mnot\u001b[0m \u001b[0;32mNone\u001b[0m\u001b[0;34m:\u001b[0m\u001b[0;34m\u001b[0m\u001b[0;34m\u001b[0m\u001b[0m\n\u001b[0;32m--> 146\u001b[0;31m         \u001b[0my\u001b[0m \u001b[0;34m=\u001b[0m \u001b[0mcopier\u001b[0m\u001b[0;34m(\u001b[0m\u001b[0mx\u001b[0m\u001b[0;34m,\u001b[0m \u001b[0mmemo\u001b[0m\u001b[0;34m)\u001b[0m\u001b[0;34m\u001b[0m\u001b[0;34m\u001b[0m\u001b[0m\n\u001b[0m\u001b[1;32m    147\u001b[0m     \u001b[0;32melse\u001b[0m\u001b[0;34m:\u001b[0m\u001b[0;34m\u001b[0m\u001b[0;34m\u001b[0m\u001b[0m\n\u001b[1;32m    148\u001b[0m         \u001b[0;32mif\u001b[0m \u001b[0missubclass\u001b[0m\u001b[0;34m(\u001b[0m\u001b[0mcls\u001b[0m\u001b[0;34m,\u001b[0m \u001b[0mtype\u001b[0m\u001b[0;34m)\u001b[0m\u001b[0;34m:\u001b[0m\u001b[0;34m\u001b[0m\u001b[0;34m\u001b[0m\u001b[0m\n",
      "\u001b[0;32m~/opt/anaconda3/lib/python3.8/copy.py\u001b[0m in \u001b[0;36m_deepcopy_list\u001b[0;34m(x, memo, deepcopy)\u001b[0m\n\u001b[1;32m    203\u001b[0m     \u001b[0mappend\u001b[0m \u001b[0;34m=\u001b[0m \u001b[0my\u001b[0m\u001b[0;34m.\u001b[0m\u001b[0mappend\u001b[0m\u001b[0;34m\u001b[0m\u001b[0;34m\u001b[0m\u001b[0m\n\u001b[1;32m    204\u001b[0m     \u001b[0;32mfor\u001b[0m \u001b[0ma\u001b[0m \u001b[0;32min\u001b[0m \u001b[0mx\u001b[0m\u001b[0;34m:\u001b[0m\u001b[0;34m\u001b[0m\u001b[0;34m\u001b[0m\u001b[0m\n\u001b[0;32m--> 205\u001b[0;31m         \u001b[0mappend\u001b[0m\u001b[0;34m(\u001b[0m\u001b[0mdeepcopy\u001b[0m\u001b[0;34m(\u001b[0m\u001b[0ma\u001b[0m\u001b[0;34m,\u001b[0m \u001b[0mmemo\u001b[0m\u001b[0;34m)\u001b[0m\u001b[0;34m)\u001b[0m\u001b[0;34m\u001b[0m\u001b[0;34m\u001b[0m\u001b[0m\n\u001b[0m\u001b[1;32m    206\u001b[0m     \u001b[0;32mreturn\u001b[0m \u001b[0my\u001b[0m\u001b[0;34m\u001b[0m\u001b[0;34m\u001b[0m\u001b[0m\n\u001b[1;32m    207\u001b[0m \u001b[0md\u001b[0m\u001b[0;34m[\u001b[0m\u001b[0mlist\u001b[0m\u001b[0;34m]\u001b[0m \u001b[0;34m=\u001b[0m \u001b[0m_deepcopy_list\u001b[0m\u001b[0;34m\u001b[0m\u001b[0;34m\u001b[0m\u001b[0m\n",
      "\u001b[0;32m~/opt/anaconda3/lib/python3.8/copy.py\u001b[0m in \u001b[0;36mdeepcopy\u001b[0;34m(x, memo, _nil)\u001b[0m\n\u001b[1;32m    144\u001b[0m     \u001b[0mcopier\u001b[0m \u001b[0;34m=\u001b[0m \u001b[0m_deepcopy_dispatch\u001b[0m\u001b[0;34m.\u001b[0m\u001b[0mget\u001b[0m\u001b[0;34m(\u001b[0m\u001b[0mcls\u001b[0m\u001b[0;34m)\u001b[0m\u001b[0;34m\u001b[0m\u001b[0;34m\u001b[0m\u001b[0m\n\u001b[1;32m    145\u001b[0m     \u001b[0;32mif\u001b[0m \u001b[0mcopier\u001b[0m \u001b[0;32mis\u001b[0m \u001b[0;32mnot\u001b[0m \u001b[0;32mNone\u001b[0m\u001b[0;34m:\u001b[0m\u001b[0;34m\u001b[0m\u001b[0;34m\u001b[0m\u001b[0m\n\u001b[0;32m--> 146\u001b[0;31m         \u001b[0my\u001b[0m \u001b[0;34m=\u001b[0m \u001b[0mcopier\u001b[0m\u001b[0;34m(\u001b[0m\u001b[0mx\u001b[0m\u001b[0;34m,\u001b[0m \u001b[0mmemo\u001b[0m\u001b[0;34m)\u001b[0m\u001b[0;34m\u001b[0m\u001b[0;34m\u001b[0m\u001b[0m\n\u001b[0m\u001b[1;32m    147\u001b[0m     \u001b[0;32melse\u001b[0m\u001b[0;34m:\u001b[0m\u001b[0;34m\u001b[0m\u001b[0;34m\u001b[0m\u001b[0m\n\u001b[1;32m    148\u001b[0m         \u001b[0;32mif\u001b[0m \u001b[0missubclass\u001b[0m\u001b[0;34m(\u001b[0m\u001b[0mcls\u001b[0m\u001b[0;34m,\u001b[0m \u001b[0mtype\u001b[0m\u001b[0;34m)\u001b[0m\u001b[0;34m:\u001b[0m\u001b[0;34m\u001b[0m\u001b[0;34m\u001b[0m\u001b[0m\n",
      "\u001b[0;32m~/opt/anaconda3/lib/python3.8/copy.py\u001b[0m in \u001b[0;36m_deepcopy_list\u001b[0;34m(x, memo, deepcopy)\u001b[0m\n\u001b[1;32m    203\u001b[0m     \u001b[0mappend\u001b[0m \u001b[0;34m=\u001b[0m \u001b[0my\u001b[0m\u001b[0;34m.\u001b[0m\u001b[0mappend\u001b[0m\u001b[0;34m\u001b[0m\u001b[0;34m\u001b[0m\u001b[0m\n\u001b[1;32m    204\u001b[0m     \u001b[0;32mfor\u001b[0m \u001b[0ma\u001b[0m \u001b[0;32min\u001b[0m \u001b[0mx\u001b[0m\u001b[0;34m:\u001b[0m\u001b[0;34m\u001b[0m\u001b[0;34m\u001b[0m\u001b[0m\n\u001b[0;32m--> 205\u001b[0;31m         \u001b[0mappend\u001b[0m\u001b[0;34m(\u001b[0m\u001b[0mdeepcopy\u001b[0m\u001b[0;34m(\u001b[0m\u001b[0ma\u001b[0m\u001b[0;34m,\u001b[0m \u001b[0mmemo\u001b[0m\u001b[0;34m)\u001b[0m\u001b[0;34m)\u001b[0m\u001b[0;34m\u001b[0m\u001b[0;34m\u001b[0m\u001b[0m\n\u001b[0m\u001b[1;32m    206\u001b[0m     \u001b[0;32mreturn\u001b[0m \u001b[0my\u001b[0m\u001b[0;34m\u001b[0m\u001b[0;34m\u001b[0m\u001b[0m\n\u001b[1;32m    207\u001b[0m \u001b[0md\u001b[0m\u001b[0;34m[\u001b[0m\u001b[0mlist\u001b[0m\u001b[0;34m]\u001b[0m \u001b[0;34m=\u001b[0m \u001b[0m_deepcopy_list\u001b[0m\u001b[0;34m\u001b[0m\u001b[0;34m\u001b[0m\u001b[0m\n",
      "\u001b[0;32m~/opt/anaconda3/lib/python3.8/copy.py\u001b[0m in \u001b[0;36mdeepcopy\u001b[0;34m(x, memo, _nil)\u001b[0m\n\u001b[1;32m    174\u001b[0m     \u001b[0;31m# If is its own copy, don't memoize.\u001b[0m\u001b[0;34m\u001b[0m\u001b[0;34m\u001b[0m\u001b[0;34m\u001b[0m\u001b[0m\n\u001b[1;32m    175\u001b[0m     \u001b[0;32mif\u001b[0m \u001b[0my\u001b[0m \u001b[0;32mis\u001b[0m \u001b[0;32mnot\u001b[0m \u001b[0mx\u001b[0m\u001b[0;34m:\u001b[0m\u001b[0;34m\u001b[0m\u001b[0;34m\u001b[0m\u001b[0m\n\u001b[0;32m--> 176\u001b[0;31m         \u001b[0mmemo\u001b[0m\u001b[0;34m[\u001b[0m\u001b[0md\u001b[0m\u001b[0;34m]\u001b[0m \u001b[0;34m=\u001b[0m \u001b[0my\u001b[0m\u001b[0;34m\u001b[0m\u001b[0;34m\u001b[0m\u001b[0m\n\u001b[0m\u001b[1;32m    177\u001b[0m         \u001b[0m_keep_alive\u001b[0m\u001b[0;34m(\u001b[0m\u001b[0mx\u001b[0m\u001b[0;34m,\u001b[0m \u001b[0mmemo\u001b[0m\u001b[0;34m)\u001b[0m \u001b[0;31m# Make sure x lives at least as long as d\u001b[0m\u001b[0;34m\u001b[0m\u001b[0;34m\u001b[0m\u001b[0m\n\u001b[1;32m    178\u001b[0m     \u001b[0;32mreturn\u001b[0m \u001b[0my\u001b[0m\u001b[0;34m\u001b[0m\u001b[0;34m\u001b[0m\u001b[0m\n",
      "\u001b[0;31mKeyboardInterrupt\u001b[0m: "
     ]
    }
   ],
   "source": [
    "from itertools import product\n",
    "k=[2,3,4,5,6]\n",
    "c_rate=[0.8,0.9,0.95,1]\n",
    "m_rate=[0.003,0.01,0.05,0.1]\n",
    "\n",
    "iteration=product(k,c_rate,m_rate)\n",
    "df = pd.DataFrame(columns=['demand','sol','k','c_rate','m_rate','Fitness','Runtime','sc'])\n",
    "for k,c_rate,m_rate in iteration:\n",
    "    Dataset={ 'demands':[[10,21,33,41,39,40,30],\n",
    "                         [193,501,1018,1249,998,564,250,128],\n",
    "                         [990,1980,3961,2971,1980]],\n",
    "             'consumption':[[1.5073,1.5685,1.6126,1.6704,1.7182,1.7911,1.8308],\n",
    "                            [1.3350,1.3998,1.4356,1.4826,1.5440,1.5878,1.6313,1.6908],\n",
    "                            [1.3086,1.3671,1.4183,1.4538,1.5122]],\n",
    "             'price':[3.10,2.90,1.95]\n",
    "             }\n",
    "    for i in range(len(Dataset['demands'])):\n",
    "        demand=Dataset['demands'][i]\n",
    "        Q_b= Shortage_allowance(demand,d)\n",
    "        Y_b=Dataset['consumption'][i]\n",
    "        f=Dataset['price'][i]\n",
    "        for j in range(5):\n",
    "            time_start = time.perf_counter()\n",
    "            Gbest,sc = GA_with_TS(pop_size=200, generation=180,k=k,m_rate=m_rate,c_rate=c_rate)\n",
    "            time_elapsed = (time.perf_counter() - time_start)\n",
    "            df=df.append({'demand':demand,'k':k,'sol':Gbest,'c_rate':c_rate,'m_rate': m_rate, \n",
    "                          'Fitness':Fitness(Gbest), 'Runtime': time_elapsed,'sc':sc}, \n",
    "                         ignore_index=True)\n",
    "    #df.to_csv('GA_GridSearch_All Data_7_jan_23.csv')"
   ]
  },
  {
   "cell_type": "markdown",
   "metadata": {},
   "source": [
    "## GA with Stopping Criteria"
   ]
  },
  {
   "cell_type": "code",
   "execution_count": 20,
   "metadata": {},
   "outputs": [],
   "source": [
    "def GA_with_TS_with_sc(pop_size, generation,k=3,m_rate=0.05,c_rate=0.95, sc=100):\n",
    "    \n",
    "    pool_of_sol= GeneratePopulation(pop_size)\n",
    "    pool_of_sol= S_with_F(pool_of_sol)\n",
    "\n",
    "    bests=[]\n",
    "    it=0\n",
    "    for g in range(generation):\n",
    "        for p in range(pop_size):            \n",
    "            Parent1,Parent2= [TournamentSelection(pool_of_sol,k=k)for i in range(2)]\n",
    "                    \n",
    "            child = Crossover(Parent1, Parent2, crossover_rate=c_rate)\n",
    "\n",
    "            mutated_child=Mutation(child,mutation_rate=m_rate)\n",
    "            mutated_child['F']=Fitness(mutated_child)\n",
    "            pool_of_sol.append(mutated_child)\n",
    "        \n",
    "        pool_of_sol= sorted(pool_of_sol, key=lambda d: d['F'])\n",
    "        pool_of_sol = pool_of_sol[:pop_size]\n",
    "        \n",
    "        if bests:\n",
    "            if bests[-1]['F']> pool_of_sol[0]['F']:\n",
    "                it=0\n",
    "            else: \n",
    "                it+=1\n",
    "        bests.append(pool_of_sol[0])\n",
    "        if it> sc:\n",
    "            print('break')\n",
    "            break\n",
    "        \n",
    "\n",
    "#     x=[i for i in range(len(bests))]\n",
    "#     yy=[bests[i]['F'] for i in range(len(bests))]\n",
    "#     fig=px.line(x=x,\n",
    "#                 y=yy,\n",
    "#                 title=f'pop_size={pop_size},generation= {generation},k={k},mu_rate= {m_rate},c_rate={c_rate}, best={yy[-1]}, sc={sc}',\n",
    "#                 labels=dict(x='generation',y='fitness'))\n",
    "#     fig.show()\n",
    "    \n",
    "    return bests[-1]"
   ]
  },
  {
   "cell_type": "markdown",
   "metadata": {},
   "source": [
    "### Parameter tuning for Popsize and Generartion"
   ]
  },
  {
   "cell_type": "code",
   "execution_count": 21,
   "metadata": {
    "collapsed": true
   },
   "outputs": [
    {
     "name": "stdout",
     "output_type": "stream",
     "text": [
      "break\n",
      "break\n",
      "break\n",
      "break\n",
      "break\n"
     ]
    },
    {
     "ename": "KeyboardInterrupt",
     "evalue": "",
     "output_type": "error",
     "traceback": [
      "\u001b[0;31m---------------------------------------------------------------------------\u001b[0m",
      "\u001b[0;31mKeyboardInterrupt\u001b[0m                         Traceback (most recent call last)",
      "\u001b[0;32m<ipython-input-21-91d29eca7d26>\u001b[0m in \u001b[0;36m<module>\u001b[0;34m\u001b[0m\n\u001b[1;32m     21\u001b[0m         \u001b[0;32mfor\u001b[0m \u001b[0mj\u001b[0m \u001b[0;32min\u001b[0m \u001b[0mrange\u001b[0m\u001b[0;34m(\u001b[0m\u001b[0;36m3\u001b[0m\u001b[0;34m)\u001b[0m\u001b[0;34m:\u001b[0m\u001b[0;34m\u001b[0m\u001b[0;34m\u001b[0m\u001b[0m\n\u001b[1;32m     22\u001b[0m             \u001b[0mtime_start\u001b[0m \u001b[0;34m=\u001b[0m \u001b[0mtime\u001b[0m\u001b[0;34m.\u001b[0m\u001b[0mperf_counter\u001b[0m\u001b[0;34m(\u001b[0m\u001b[0;34m)\u001b[0m\u001b[0;34m\u001b[0m\u001b[0;34m\u001b[0m\u001b[0m\n\u001b[0;32m---> 23\u001b[0;31m             \u001b[0mGbest\u001b[0m\u001b[0;34m=\u001b[0m \u001b[0mGA_with_TS_with_sc\u001b[0m\u001b[0;34m(\u001b[0m\u001b[0mpop_size\u001b[0m\u001b[0;34m=\u001b[0m\u001b[0mpop_size\u001b[0m\u001b[0;34m,\u001b[0m \u001b[0mgeneration\u001b[0m\u001b[0;34m=\u001b[0m\u001b[0mgeneration\u001b[0m\u001b[0;34m,\u001b[0m\u001b[0mk\u001b[0m\u001b[0;34m=\u001b[0m\u001b[0mk\u001b[0m\u001b[0;34m,\u001b[0m\u001b[0mm_rate\u001b[0m\u001b[0;34m=\u001b[0m\u001b[0mm_rate\u001b[0m\u001b[0;34m,\u001b[0m\u001b[0mc_rate\u001b[0m\u001b[0;34m=\u001b[0m\u001b[0mc_rate\u001b[0m\u001b[0;34m,\u001b[0m \u001b[0msc\u001b[0m\u001b[0;34m=\u001b[0m\u001b[0msc\u001b[0m\u001b[0;34m)\u001b[0m\u001b[0;34m\u001b[0m\u001b[0;34m\u001b[0m\u001b[0m\n\u001b[0m\u001b[1;32m     24\u001b[0m             \u001b[0mtime_elapsed\u001b[0m \u001b[0;34m=\u001b[0m \u001b[0;34m(\u001b[0m\u001b[0mtime\u001b[0m\u001b[0;34m.\u001b[0m\u001b[0mperf_counter\u001b[0m\u001b[0;34m(\u001b[0m\u001b[0;34m)\u001b[0m \u001b[0;34m-\u001b[0m \u001b[0mtime_start\u001b[0m\u001b[0;34m)\u001b[0m\u001b[0;34m\u001b[0m\u001b[0;34m\u001b[0m\u001b[0m\n\u001b[1;32m     25\u001b[0m \u001b[0;34m\u001b[0m\u001b[0m\n",
      "\u001b[0;32m<ipython-input-20-780fb7d4efde>\u001b[0m in \u001b[0;36mGA_with_TS_with_sc\u001b[0;34m(pop_size, generation, k, m_rate, c_rate, sc)\u001b[0m\n\u001b[1;32m     13\u001b[0m \u001b[0;34m\u001b[0m\u001b[0m\n\u001b[1;32m     14\u001b[0m             \u001b[0mmutated_child\u001b[0m\u001b[0;34m=\u001b[0m\u001b[0mMutation\u001b[0m\u001b[0;34m(\u001b[0m\u001b[0mchild\u001b[0m\u001b[0;34m,\u001b[0m\u001b[0mmutation_rate\u001b[0m\u001b[0;34m=\u001b[0m\u001b[0mm_rate\u001b[0m\u001b[0;34m)\u001b[0m\u001b[0;34m\u001b[0m\u001b[0;34m\u001b[0m\u001b[0m\n\u001b[0;32m---> 15\u001b[0;31m             \u001b[0mmutated_child\u001b[0m\u001b[0;34m[\u001b[0m\u001b[0;34m'F'\u001b[0m\u001b[0;34m]\u001b[0m\u001b[0;34m=\u001b[0m\u001b[0mFitness\u001b[0m\u001b[0;34m(\u001b[0m\u001b[0mmutated_child\u001b[0m\u001b[0;34m)\u001b[0m\u001b[0;34m\u001b[0m\u001b[0;34m\u001b[0m\u001b[0m\n\u001b[0m\u001b[1;32m     16\u001b[0m             \u001b[0mpool_of_sol\u001b[0m\u001b[0;34m.\u001b[0m\u001b[0mappend\u001b[0m\u001b[0;34m(\u001b[0m\u001b[0mmutated_child\u001b[0m\u001b[0;34m)\u001b[0m\u001b[0;34m\u001b[0m\u001b[0;34m\u001b[0m\u001b[0m\n\u001b[1;32m     17\u001b[0m \u001b[0;34m\u001b[0m\u001b[0m\n",
      "\u001b[0;32m<ipython-input-10-dba1d6949cb2>\u001b[0m in \u001b[0;36mFitness\u001b[0;34m(chromosome)\u001b[0m\n\u001b[1;32m     20\u001b[0m     \u001b[0;34m'''         Penalty for excess production           '''\u001b[0m\u001b[0;34m\u001b[0m\u001b[0;34m\u001b[0m\u001b[0m\n\u001b[1;32m     21\u001b[0m     \u001b[0mr\u001b[0m\u001b[0;34m=\u001b[0m\u001b[0mnp\u001b[0m\u001b[0;34m.\u001b[0m\u001b[0mdot\u001b[0m\u001b[0;34m(\u001b[0m\u001b[0;36m1.02\u001b[0m\u001b[0;34m,\u001b[0m\u001b[0mdemand\u001b[0m\u001b[0;34m)\u001b[0m         \u001b[0;31m# additional 2% allowance\u001b[0m\u001b[0;34m\u001b[0m\u001b[0;34m\u001b[0m\u001b[0m\n\u001b[0;32m---> 22\u001b[0;31m     \u001b[0mR\u001b[0m\u001b[0;34m=\u001b[0m \u001b[0mUpdate_Res\u001b[0m\u001b[0;34m(\u001b[0m\u001b[0mR\u001b[0m\u001b[0;34m=\u001b[0m\u001b[0mr\u001b[0m\u001b[0;34m,\u001b[0m\u001b[0mGG\u001b[0m\u001b[0;34m=\u001b[0m\u001b[0mG_a_b\u001b[0m\u001b[0;34m,\u001b[0m\u001b[0mPP\u001b[0m\u001b[0;34m=\u001b[0m\u001b[0mP_a\u001b[0m\u001b[0;34m)\u001b[0m\u001b[0;34m\u001b[0m\u001b[0;34m\u001b[0m\u001b[0m\n\u001b[0m\u001b[1;32m     23\u001b[0m     \u001b[0;31m#print(R)\u001b[0m\u001b[0;34m\u001b[0m\u001b[0;34m\u001b[0m\u001b[0;34m\u001b[0m\u001b[0m\n\u001b[1;32m     24\u001b[0m     \u001b[0;32mfor\u001b[0m \u001b[0mbeta\u001b[0m \u001b[0;32min\u001b[0m \u001b[0mrange\u001b[0m\u001b[0;34m(\u001b[0m\u001b[0mBeta\u001b[0m\u001b[0;34m)\u001b[0m\u001b[0;34m:\u001b[0m\u001b[0;34m\u001b[0m\u001b[0;34m\u001b[0m\u001b[0m\n",
      "\u001b[0;32m<ipython-input-4-84a9d0ea8b26>\u001b[0m in \u001b[0;36mUpdate_Res\u001b[0;34m(R, GG, PP)\u001b[0m\n\u001b[1;32m      1\u001b[0m \u001b[0;32mdef\u001b[0m \u001b[0mUpdate_Res\u001b[0m\u001b[0;34m(\u001b[0m\u001b[0mR\u001b[0m\u001b[0;34m,\u001b[0m\u001b[0mGG\u001b[0m\u001b[0;34m,\u001b[0m\u001b[0mPP\u001b[0m\u001b[0;34m)\u001b[0m\u001b[0;34m:\u001b[0m\u001b[0;34m\u001b[0m\u001b[0;34m\u001b[0m\u001b[0m\n\u001b[1;32m      2\u001b[0m     \u001b[0;32mfor\u001b[0m \u001b[0ms\u001b[0m \u001b[0;32min\u001b[0m \u001b[0mrange\u001b[0m\u001b[0;34m(\u001b[0m\u001b[0mlen\u001b[0m\u001b[0;34m(\u001b[0m\u001b[0mGG\u001b[0m\u001b[0;34m)\u001b[0m\u001b[0;34m)\u001b[0m\u001b[0;34m:\u001b[0m \u001b[0;31m#Updating Residual within the while loop\u001b[0m\u001b[0;34m\u001b[0m\u001b[0;34m\u001b[0m\u001b[0m\n\u001b[0;32m----> 3\u001b[0;31m         \u001b[0mR\u001b[0m\u001b[0;34m=\u001b[0m\u001b[0mR\u001b[0m\u001b[0;34m-\u001b[0m\u001b[0mnp\u001b[0m\u001b[0;34m.\u001b[0m\u001b[0mdot\u001b[0m\u001b[0;34m(\u001b[0m\u001b[0mGG\u001b[0m\u001b[0;34m[\u001b[0m\u001b[0ms\u001b[0m\u001b[0;34m]\u001b[0m\u001b[0;34m,\u001b[0m\u001b[0mPP\u001b[0m\u001b[0;34m[\u001b[0m\u001b[0ms\u001b[0m\u001b[0;34m]\u001b[0m\u001b[0;34m)\u001b[0m\u001b[0;34m\u001b[0m\u001b[0;34m\u001b[0m\u001b[0m\n\u001b[0m\u001b[1;32m      4\u001b[0m     \u001b[0;32mreturn\u001b[0m \u001b[0mR\u001b[0m\u001b[0;34m\u001b[0m\u001b[0;34m\u001b[0m\u001b[0m\n",
      "\u001b[0;32m<__array_function__ internals>\u001b[0m in \u001b[0;36mdot\u001b[0;34m(*args, **kwargs)\u001b[0m\n",
      "\u001b[0;31mKeyboardInterrupt\u001b[0m: "
     ]
    }
   ],
   "source": [
    "pop_size=[160,180,200,250]\n",
    "generation=[160,180,200,250]\n",
    "df = pd.DataFrame(columns=['demand','sol','pop_size','generation','Fitness','Runtime'])\n",
    "for pop_size,generation in product(pop_size,generation):\n",
    "    Dataset={ 'demands':[[10,21,33,41,39,40,30],\n",
    "                         [193,501,1018,1249,998,564,250,128],\n",
    "                         [990,1980,3961,2971,1980]],\n",
    "             'consumption':[[1.5073,1.5685,1.6126,1.6704,1.7182,1.7911,1.8308],\n",
    "                            [1.3350,1.3998,1.4356,1.4826,1.5440,1.5878,1.6313,1.6908],\n",
    "                            [1.3086,1.3671,1.4183,1.4538,1.5122]],\n",
    "             'price':[3.10,2.90,1.95]\n",
    "             }\n",
    "    \n",
    "    \n",
    "    k, c_rate, m_rate,sc = (2,0.95, 0.003,99) #parameters\n",
    "    for i in range(len(Dataset['demands'])):\n",
    "        demand=Dataset['demands'][i]\n",
    "        Q_b= Shortage_allowance(demand,d)\n",
    "        Y_b=Dataset['consumption'][i]\n",
    "        f=Dataset['price'][i]\n",
    "        for j in range(3):\n",
    "            time_start = time.perf_counter()\n",
    "            Gbest= GA_with_TS_with_sc(pop_size=pop_size, generation=generation,k=k,m_rate=m_rate,c_rate=c_rate, sc=sc)\n",
    "            time_elapsed = (time.perf_counter() - time_start)\n",
    "            \n",
    "            df=df.append({'demand':demand,'sol':Gbest,'pop_size':pop_size ,'generation':generation,\n",
    "                          'Fitness':Fitness(Gbest), 'Runtime': time_elapsed}, \n",
    "                         ignore_index=True)\n",
    "    #df.to_csv('GA_pop_generation_tuning_7_jan_23.csv')"
   ]
  },
  {
   "cell_type": "markdown",
   "metadata": {},
   "source": [
    "## Selected Parameters : \n",
    "* k= 2, \n",
    "* c_rate= 0.95, \n",
    "* m_rate= 0.003, \n",
    "* sc= 99 (stoping criteria)\n",
    "* pop_size= 200, \n",
    "* generation= 200"
   ]
  },
  {
   "cell_type": "markdown",
   "metadata": {},
   "source": [
    "## Implemanting on Industry Data"
   ]
  },
  {
   "cell_type": "code",
   "execution_count": 20,
   "metadata": {},
   "outputs": [],
   "source": [
    "path='/Users/sharif-al-mahmud/Library/Mobile Documents/com~apple~CloudDocs/Thesis/Data/DataSets.xlsx'"
   ]
  },
  {
   "cell_type": "code",
   "execution_count": 21,
   "metadata": {
    "id": "aIqEWgCMLIdD"
   },
   "outputs": [],
   "source": [
    "df=pd.read_excel(path,sheet_name='Sheet3',index_col=[0])"
   ]
  },
  {
   "cell_type": "code",
   "execution_count": 22,
   "metadata": {},
   "outputs": [],
   "source": [
    "df=df.T   #transposing the datatable\n",
    "\n",
    "df.columns = df.columns.str.strip()\n",
    "\n",
    "col=list(df.columns)  #taking the list of columns or 'styles'\n",
    "col= sorted(set(col), key=col.index)\n"
   ]
  },
  {
   "cell_type": "code",
   "execution_count": 23,
   "metadata": {},
   "outputs": [
    {
     "data": {
      "text/html": [
       "<div>\n",
       "<style scoped>\n",
       "    .dataframe tbody tr th:only-of-type {\n",
       "        vertical-align: middle;\n",
       "    }\n",
       "\n",
       "    .dataframe tbody tr th {\n",
       "        vertical-align: top;\n",
       "    }\n",
       "\n",
       "    .dataframe thead th {\n",
       "        text-align: right;\n",
       "    }\n",
       "</style>\n",
       "<table border=\"1\" class=\"dataframe\">\n",
       "  <thead>\n",
       "    <tr style=\"text-align: right;\">\n",
       "      <th>Style short</th>\n",
       "      <th>ST1</th>\n",
       "      <th>ST1</th>\n",
       "      <th>ST1</th>\n",
       "      <th>ST1</th>\n",
       "      <th>ST1</th>\n",
       "      <th>ST1</th>\n",
       "      <th>ST1</th>\n",
       "      <th>ST1</th>\n",
       "      <th>ST2</th>\n",
       "      <th>ST2</th>\n",
       "      <th>...</th>\n",
       "      <th>ST34</th>\n",
       "      <th>ST34</th>\n",
       "      <th>ST35</th>\n",
       "      <th>ST35</th>\n",
       "      <th>ST35</th>\n",
       "      <th>ST35</th>\n",
       "      <th>ST35</th>\n",
       "      <th>ST35</th>\n",
       "      <th>ST35</th>\n",
       "      <th>ST35</th>\n",
       "    </tr>\n",
       "  </thead>\n",
       "  <tbody>\n",
       "    <tr>\n",
       "      <th>Style</th>\n",
       "      <td>Girl's High Rise Wide Leg Belted Trouser</td>\n",
       "      <td>NaN</td>\n",
       "      <td>NaN</td>\n",
       "      <td>NaN</td>\n",
       "      <td>NaN</td>\n",
       "      <td>NaN</td>\n",
       "      <td>NaN</td>\n",
       "      <td>NaN</td>\n",
       "      <td>Falcon lake shorty short</td>\n",
       "      <td>NaN</td>\n",
       "      <td>...</td>\n",
       "      <td>NaN</td>\n",
       "      <td>NaN</td>\n",
       "      <td>Mens Pull on Jogger</td>\n",
       "      <td>NaN</td>\n",
       "      <td>NaN</td>\n",
       "      <td>NaN</td>\n",
       "      <td>NaN</td>\n",
       "      <td>NaN</td>\n",
       "      <td>NaN</td>\n",
       "      <td>NaN</td>\n",
       "    </tr>\n",
       "    <tr>\n",
       "      <th>Demand</th>\n",
       "      <td>136</td>\n",
       "      <td>354</td>\n",
       "      <td>743</td>\n",
       "      <td>928</td>\n",
       "      <td>738</td>\n",
       "      <td>423</td>\n",
       "      <td>188</td>\n",
       "      <td>91</td>\n",
       "      <td>872</td>\n",
       "      <td>1743</td>\n",
       "      <td>...</td>\n",
       "      <td>48</td>\n",
       "      <td>34</td>\n",
       "      <td>0</td>\n",
       "      <td>10</td>\n",
       "      <td>21</td>\n",
       "      <td>33</td>\n",
       "      <td>41</td>\n",
       "      <td>39</td>\n",
       "      <td>40</td>\n",
       "      <td>30</td>\n",
       "    </tr>\n",
       "    <tr>\n",
       "      <th>Consumption</th>\n",
       "      <td>2.0581</td>\n",
       "      <td>2.128</td>\n",
       "      <td>2.2061</td>\n",
       "      <td>2.2688</td>\n",
       "      <td>2.3334</td>\n",
       "      <td>2.4134</td>\n",
       "      <td>2.4793</td>\n",
       "      <td>2.597</td>\n",
       "      <td>0.612</td>\n",
       "      <td>0.6315</td>\n",
       "      <td>...</td>\n",
       "      <td>1.6377</td>\n",
       "      <td>1.7032</td>\n",
       "      <td>1.4688</td>\n",
       "      <td>1.5073</td>\n",
       "      <td>1.5685</td>\n",
       "      <td>1.6126</td>\n",
       "      <td>1.6704</td>\n",
       "      <td>1.7182</td>\n",
       "      <td>1.7911</td>\n",
       "      <td>1.8308</td>\n",
       "    </tr>\n",
       "    <tr>\n",
       "      <th>Price/unit length</th>\n",
       "      <td>3.56</td>\n",
       "      <td>NaN</td>\n",
       "      <td>NaN</td>\n",
       "      <td>NaN</td>\n",
       "      <td>NaN</td>\n",
       "      <td>NaN</td>\n",
       "      <td>NaN</td>\n",
       "      <td>NaN</td>\n",
       "      <td>1.51</td>\n",
       "      <td>NaN</td>\n",
       "      <td>...</td>\n",
       "      <td>NaN</td>\n",
       "      <td>NaN</td>\n",
       "      <td>3.1</td>\n",
       "      <td>NaN</td>\n",
       "      <td>NaN</td>\n",
       "      <td>NaN</td>\n",
       "      <td>NaN</td>\n",
       "      <td>NaN</td>\n",
       "      <td>NaN</td>\n",
       "      <td>NaN</td>\n",
       "    </tr>\n",
       "  </tbody>\n",
       "</table>\n",
       "<p>4 rows × 240 columns</p>\n",
       "</div>"
      ],
      "text/plain": [
       "Style short                                             ST1    ST1     ST1  \\\n",
       "Style              Girl's High Rise Wide Leg Belted Trouser    NaN     NaN   \n",
       "Demand                                                  136    354     743   \n",
       "Consumption                                          2.0581  2.128  2.2061   \n",
       "Price/unit length                                      3.56    NaN     NaN   \n",
       "\n",
       "Style short           ST1     ST1     ST1     ST1    ST1  \\\n",
       "Style                 NaN     NaN     NaN     NaN    NaN   \n",
       "Demand                928     738     423     188     91   \n",
       "Consumption        2.2688  2.3334  2.4134  2.4793  2.597   \n",
       "Price/unit length     NaN     NaN     NaN     NaN    NaN   \n",
       "\n",
       "Style short                             ST2     ST2  ...    ST34    ST34  \\\n",
       "Style              Falcon lake shorty short     NaN  ...     NaN     NaN   \n",
       "Demand                                  872    1743  ...      48      34   \n",
       "Consumption                           0.612  0.6315  ...  1.6377  1.7032   \n",
       "Price/unit length                      1.51     NaN  ...     NaN     NaN   \n",
       "\n",
       "Style short                       ST35    ST35    ST35    ST35    ST35  \\\n",
       "Style              Mens Pull on Jogger     NaN     NaN     NaN     NaN   \n",
       "Demand                               0      10      21      33      41   \n",
       "Consumption                     1.4688  1.5073  1.5685  1.6126  1.6704   \n",
       "Price/unit length                  3.1     NaN     NaN     NaN     NaN   \n",
       "\n",
       "Style short          ST35    ST35    ST35  \n",
       "Style                 NaN     NaN     NaN  \n",
       "Demand                 39      40      30  \n",
       "Consumption        1.7182  1.7911  1.8308  \n",
       "Price/unit length     NaN     NaN     NaN  \n",
       "\n",
       "[4 rows x 240 columns]"
      ]
     },
     "execution_count": 23,
     "metadata": {},
     "output_type": "execute_result"
    }
   ],
   "source": [
    "df"
   ]
  },
  {
   "cell_type": "code",
   "execution_count": 24,
   "metadata": {
    "collapsed": true
   },
   "outputs": [
    {
     "data": {
      "text/plain": [
       "['ST1',\n",
       " 'ST2',\n",
       " 'ST3',\n",
       " 'ST4',\n",
       " 'ST5',\n",
       " 'ST6',\n",
       " 'ST7',\n",
       " 'ST8',\n",
       " 'ST9',\n",
       " 'ST10',\n",
       " 'ST11',\n",
       " 'ST12',\n",
       " 'ST13',\n",
       " 'ST14',\n",
       " 'ST15',\n",
       " 'ST16',\n",
       " 'ST17',\n",
       " 'ST18',\n",
       " 'ST19',\n",
       " 'ST20',\n",
       " 'ST21',\n",
       " 'ST22',\n",
       " 'ST23',\n",
       " 'ST24',\n",
       " 'ST25',\n",
       " 'ST26',\n",
       " 'ST27',\n",
       " 'ST28',\n",
       " 'ST29',\n",
       " 'ST30',\n",
       " 'ST31',\n",
       " 'ST32',\n",
       " 'ST33',\n",
       " 'ST34',\n",
       " 'ST35']"
      ]
     },
     "execution_count": 24,
     "metadata": {},
     "output_type": "execute_result"
    }
   ],
   "source": [
    "col"
   ]
  },
  {
   "cell_type": "code",
   "execution_count": 27,
   "metadata": {
    "collapsed": true
   },
   "outputs": [
    {
     "name": "stdout",
     "output_type": "stream",
     "text": [
      "ST1 [136, 354, 743, 928, 738, 423, 188, 91] [136, 354, 743, 928, 738, 423, 188, 91] [2.0581, 2.128, 2.2061, 2.2688, 2.3334, 2.4134, 2.4793, 2.597] 3.56\n"
     ]
    },
    {
     "ename": "KeyboardInterrupt",
     "evalue": "",
     "output_type": "error",
     "traceback": [
      "\u001b[0;31m---------------------------------------------------------------------------\u001b[0m",
      "\u001b[0;31mKeyboardInterrupt\u001b[0m                         Traceback (most recent call last)",
      "\u001b[0;32m<ipython-input-27-1958dfe1c62f>\u001b[0m in \u001b[0;36m<module>\u001b[0;34m\u001b[0m\n\u001b[1;32m     23\u001b[0m         \u001b[0mprint\u001b[0m\u001b[0;34m(\u001b[0m\u001b[0mi\u001b[0m\u001b[0;34m,\u001b[0m\u001b[0mdemand\u001b[0m\u001b[0;34m,\u001b[0m\u001b[0mQ_b\u001b[0m\u001b[0;34m,\u001b[0m\u001b[0mY_b\u001b[0m\u001b[0;34m,\u001b[0m\u001b[0mf\u001b[0m\u001b[0;34m)\u001b[0m\u001b[0;34m\u001b[0m\u001b[0;34m\u001b[0m\u001b[0m\n\u001b[1;32m     24\u001b[0m         \u001b[0mtime_start\u001b[0m \u001b[0;34m=\u001b[0m \u001b[0mtime\u001b[0m\u001b[0;34m.\u001b[0m\u001b[0mperf_counter\u001b[0m\u001b[0;34m(\u001b[0m\u001b[0;34m)\u001b[0m\u001b[0;34m\u001b[0m\u001b[0;34m\u001b[0m\u001b[0m\n\u001b[0;32m---> 25\u001b[0;31m         \u001b[0mGbest\u001b[0m \u001b[0;34m=\u001b[0m \u001b[0mGA_with_TS_with_sc\u001b[0m\u001b[0;34m(\u001b[0m\u001b[0mpop_size\u001b[0m\u001b[0;34m=\u001b[0m\u001b[0mpop_size\u001b[0m\u001b[0;34m,\u001b[0m \u001b[0mgeneration\u001b[0m\u001b[0;34m=\u001b[0m\u001b[0mgeneration\u001b[0m\u001b[0;34m,\u001b[0m\u001b[0mk\u001b[0m\u001b[0;34m=\u001b[0m\u001b[0mk\u001b[0m\u001b[0;34m,\u001b[0m\u001b[0mm_rate\u001b[0m\u001b[0;34m=\u001b[0m\u001b[0mm_rate\u001b[0m\u001b[0;34m,\u001b[0m\u001b[0mc_rate\u001b[0m\u001b[0;34m=\u001b[0m\u001b[0mc_rate\u001b[0m\u001b[0;34m,\u001b[0m \u001b[0msc\u001b[0m\u001b[0;34m=\u001b[0m\u001b[0msc\u001b[0m\u001b[0;34m)\u001b[0m\u001b[0;34m\u001b[0m\u001b[0;34m\u001b[0m\u001b[0m\n\u001b[0m\u001b[1;32m     26\u001b[0m         \u001b[0mtime_elapsed\u001b[0m \u001b[0;34m=\u001b[0m \u001b[0;34m(\u001b[0m\u001b[0mtime\u001b[0m\u001b[0;34m.\u001b[0m\u001b[0mperf_counter\u001b[0m\u001b[0;34m(\u001b[0m\u001b[0;34m)\u001b[0m \u001b[0;34m-\u001b[0m \u001b[0mtime_start\u001b[0m\u001b[0;34m)\u001b[0m\u001b[0;34m\u001b[0m\u001b[0;34m\u001b[0m\u001b[0m\n\u001b[1;32m     27\u001b[0m         \u001b[0mP_cost\u001b[0m\u001b[0;34m,\u001b[0m\u001b[0mP_time\u001b[0m\u001b[0;34m=\u001b[0m \u001b[0mProcess\u001b[0m\u001b[0;34m(\u001b[0m\u001b[0mGbest\u001b[0m\u001b[0;34m)\u001b[0m\u001b[0;34m\u001b[0m\u001b[0;34m\u001b[0m\u001b[0m\n",
      "\u001b[0;32m<ipython-input-25-780fb7d4efde>\u001b[0m in \u001b[0;36mGA_with_TS_with_sc\u001b[0;34m(pop_size, generation, k, m_rate, c_rate, sc)\u001b[0m\n\u001b[1;32m     13\u001b[0m \u001b[0;34m\u001b[0m\u001b[0m\n\u001b[1;32m     14\u001b[0m             \u001b[0mmutated_child\u001b[0m\u001b[0;34m=\u001b[0m\u001b[0mMutation\u001b[0m\u001b[0;34m(\u001b[0m\u001b[0mchild\u001b[0m\u001b[0;34m,\u001b[0m\u001b[0mmutation_rate\u001b[0m\u001b[0;34m=\u001b[0m\u001b[0mm_rate\u001b[0m\u001b[0;34m)\u001b[0m\u001b[0;34m\u001b[0m\u001b[0;34m\u001b[0m\u001b[0m\n\u001b[0;32m---> 15\u001b[0;31m             \u001b[0mmutated_child\u001b[0m\u001b[0;34m[\u001b[0m\u001b[0;34m'F'\u001b[0m\u001b[0;34m]\u001b[0m\u001b[0;34m=\u001b[0m\u001b[0mFitness\u001b[0m\u001b[0;34m(\u001b[0m\u001b[0mmutated_child\u001b[0m\u001b[0;34m)\u001b[0m\u001b[0;34m\u001b[0m\u001b[0;34m\u001b[0m\u001b[0m\n\u001b[0m\u001b[1;32m     16\u001b[0m             \u001b[0mpool_of_sol\u001b[0m\u001b[0;34m.\u001b[0m\u001b[0mappend\u001b[0m\u001b[0;34m(\u001b[0m\u001b[0mmutated_child\u001b[0m\u001b[0;34m)\u001b[0m\u001b[0;34m\u001b[0m\u001b[0;34m\u001b[0m\u001b[0m\n\u001b[1;32m     17\u001b[0m \u001b[0;34m\u001b[0m\u001b[0m\n",
      "\u001b[0;32m<ipython-input-10-dba1d6949cb2>\u001b[0m in \u001b[0;36mFitness\u001b[0;34m(chromosome)\u001b[0m\n\u001b[1;32m      5\u001b[0m     \u001b[0mBeta\u001b[0m\u001b[0;34m=\u001b[0m \u001b[0mlen\u001b[0m\u001b[0;34m(\u001b[0m\u001b[0mG_a_b\u001b[0m\u001b[0;34m[\u001b[0m\u001b[0;36m0\u001b[0m\u001b[0;34m]\u001b[0m\u001b[0;34m)\u001b[0m\u001b[0;34m\u001b[0m\u001b[0;34m\u001b[0m\u001b[0m\n\u001b[1;32m      6\u001b[0m \u001b[0;34m\u001b[0m\u001b[0m\n\u001b[0;32m----> 7\u001b[0;31m     \u001b[0mscore\u001b[0m\u001b[0;34m=\u001b[0m \u001b[0mObjectiveFunction\u001b[0m\u001b[0;34m(\u001b[0m\u001b[0mchromosome\u001b[0m\u001b[0;34m)\u001b[0m\u001b[0;34m\u001b[0m\u001b[0;34m\u001b[0m\u001b[0m\n\u001b[0m\u001b[1;32m      8\u001b[0m     \u001b[0;31m#print('score:',score)\u001b[0m\u001b[0;34m\u001b[0m\u001b[0;34m\u001b[0m\u001b[0;34m\u001b[0m\u001b[0m\n\u001b[1;32m      9\u001b[0m     \u001b[0mfitness_score\u001b[0m\u001b[0;34m=\u001b[0m\u001b[0mscore\u001b[0m\u001b[0;34m\u001b[0m\u001b[0;34m\u001b[0m\u001b[0m\n",
      "\u001b[0;32m<ipython-input-9-bd5605db71bd>\u001b[0m in \u001b[0;36mObjectiveFunction\u001b[0;34m(chromosome)\u001b[0m\n\u001b[1;32m     10\u001b[0m     \u001b[0;31m# Total fabric length = L # Total Fabric Cost = C_F\u001b[0m\u001b[0;34m\u001b[0m\u001b[0;34m\u001b[0m\u001b[0;34m\u001b[0m\u001b[0m\n\u001b[1;32m     11\u001b[0m \u001b[0;34m\u001b[0m\u001b[0m\n\u001b[0;32m---> 12\u001b[0;31m     \u001b[0ml_a\u001b[0m\u001b[0;34m=\u001b[0m\u001b[0;34m[\u001b[0m\u001b[0mLength\u001b[0m\u001b[0;34m(\u001b[0m\u001b[0mG_a_b\u001b[0m\u001b[0;34m[\u001b[0m\u001b[0malpha\u001b[0m\u001b[0;34m]\u001b[0m\u001b[0;34m)\u001b[0m \u001b[0;32mfor\u001b[0m \u001b[0malpha\u001b[0m \u001b[0;32min\u001b[0m \u001b[0mrange\u001b[0m\u001b[0;34m(\u001b[0m\u001b[0mAlpha\u001b[0m\u001b[0;34m)\u001b[0m \u001b[0;34m]\u001b[0m \u001b[0;31m#Length function\u001b[0m\u001b[0;34m\u001b[0m\u001b[0;34m\u001b[0m\u001b[0m\n\u001b[0m\u001b[1;32m     13\u001b[0m     \u001b[0mL\u001b[0m\u001b[0;34m=\u001b[0m \u001b[0mnp\u001b[0m\u001b[0;34m.\u001b[0m\u001b[0mdot\u001b[0m\u001b[0;34m(\u001b[0m\u001b[0ml_a\u001b[0m\u001b[0;34m,\u001b[0m\u001b[0mP_a\u001b[0m\u001b[0;34m)\u001b[0m       \u001b[0;31m#Multiply then Sum\u001b[0m\u001b[0;34m\u001b[0m\u001b[0;34m\u001b[0m\u001b[0m\n\u001b[1;32m     14\u001b[0m     \u001b[0mC_F\u001b[0m \u001b[0;34m=\u001b[0m \u001b[0mL\u001b[0m\u001b[0;34m*\u001b[0m\u001b[0mf\u001b[0m\u001b[0;34m\u001b[0m\u001b[0;34m\u001b[0m\u001b[0m\n",
      "\u001b[0;32m<ipython-input-9-bd5605db71bd>\u001b[0m in \u001b[0;36m<listcomp>\u001b[0;34m(.0)\u001b[0m\n\u001b[1;32m     10\u001b[0m     \u001b[0;31m# Total fabric length = L # Total Fabric Cost = C_F\u001b[0m\u001b[0;34m\u001b[0m\u001b[0;34m\u001b[0m\u001b[0;34m\u001b[0m\u001b[0m\n\u001b[1;32m     11\u001b[0m \u001b[0;34m\u001b[0m\u001b[0m\n\u001b[0;32m---> 12\u001b[0;31m     \u001b[0ml_a\u001b[0m\u001b[0;34m=\u001b[0m\u001b[0;34m[\u001b[0m\u001b[0mLength\u001b[0m\u001b[0;34m(\u001b[0m\u001b[0mG_a_b\u001b[0m\u001b[0;34m[\u001b[0m\u001b[0malpha\u001b[0m\u001b[0;34m]\u001b[0m\u001b[0;34m)\u001b[0m \u001b[0;32mfor\u001b[0m \u001b[0malpha\u001b[0m \u001b[0;32min\u001b[0m \u001b[0mrange\u001b[0m\u001b[0;34m(\u001b[0m\u001b[0mAlpha\u001b[0m\u001b[0;34m)\u001b[0m \u001b[0;34m]\u001b[0m \u001b[0;31m#Length function\u001b[0m\u001b[0;34m\u001b[0m\u001b[0;34m\u001b[0m\u001b[0m\n\u001b[0m\u001b[1;32m     13\u001b[0m     \u001b[0mL\u001b[0m\u001b[0;34m=\u001b[0m \u001b[0mnp\u001b[0m\u001b[0;34m.\u001b[0m\u001b[0mdot\u001b[0m\u001b[0;34m(\u001b[0m\u001b[0ml_a\u001b[0m\u001b[0;34m,\u001b[0m\u001b[0mP_a\u001b[0m\u001b[0;34m)\u001b[0m       \u001b[0;31m#Multiply then Sum\u001b[0m\u001b[0;34m\u001b[0m\u001b[0;34m\u001b[0m\u001b[0m\n\u001b[1;32m     14\u001b[0m     \u001b[0mC_F\u001b[0m \u001b[0;34m=\u001b[0m \u001b[0mL\u001b[0m\u001b[0;34m*\u001b[0m\u001b[0mf\u001b[0m\u001b[0;34m\u001b[0m\u001b[0;34m\u001b[0m\u001b[0m\n",
      "\u001b[0;32m<ipython-input-5-9e09b912d861>\u001b[0m in \u001b[0;36mLength\u001b[0;34m(g_i_j)\u001b[0m\n\u001b[1;32m      1\u001b[0m \u001b[0;32mdef\u001b[0m \u001b[0mLength\u001b[0m\u001b[0;34m(\u001b[0m\u001b[0mg_i_j\u001b[0m\u001b[0;34m)\u001b[0m\u001b[0;34m:\u001b[0m\u001b[0;34m\u001b[0m\u001b[0;34m\u001b[0m\u001b[0m\n\u001b[0;32m----> 2\u001b[0;31m     \u001b[0ml_i\u001b[0m \u001b[0;34m=\u001b[0m \u001b[0me\u001b[0m\u001b[0;34m+\u001b[0m \u001b[0mnp\u001b[0m\u001b[0;34m.\u001b[0m\u001b[0mdot\u001b[0m\u001b[0;34m(\u001b[0m\u001b[0mg_i_j\u001b[0m\u001b[0;34m,\u001b[0m\u001b[0mY_b\u001b[0m\u001b[0;34m)\u001b[0m\u001b[0;34m/\u001b[0m\u001b[0mU\u001b[0m\u001b[0;34m\u001b[0m\u001b[0;34m\u001b[0m\u001b[0m\n\u001b[0m\u001b[1;32m      3\u001b[0m     \u001b[0;32mreturn\u001b[0m \u001b[0ml_i\u001b[0m\u001b[0;34m\u001b[0m\u001b[0;34m\u001b[0m\u001b[0m\n",
      "\u001b[0;32m<__array_function__ internals>\u001b[0m in \u001b[0;36mdot\u001b[0;34m(*args, **kwargs)\u001b[0m\n",
      "\u001b[0;31mKeyboardInterrupt\u001b[0m: "
     ]
    }
   ],
   "source": [
    "df_result_GA = pd.DataFrame(columns=['style','demand','sol','Fitness','Cost','Runtime','P_cost','P_time'])\n",
    "k, c_rate, m_rate,sc = (2,0.95,0.003,99) #parameters\n",
    "pop_size,generation=(200,200)\n",
    "for j in range(5):\n",
    "    for i in col:\n",
    "        demand=df[i].loc['Demand'].to_list()\n",
    "        demand=list(map(int,demand))\n",
    "        #print('demand=',demand)\n",
    "\n",
    "        d=0  #shortange allowance in Percentage\n",
    "        Q_b= Shortage_allowance(demand,d)\n",
    "\n",
    "        consumption=df[i].loc['Consumption'].to_list()\n",
    "        Y_b=list(map(float,consumption))\n",
    "\n",
    "        if len(Q_b)!=len(Y_b):\n",
    "            raise ValueError('number of sizes and number of fabric consumption does not match')\n",
    "\n",
    "        price=df[i].loc['Price/unit length'].to_list()\n",
    "        price=list(map(float,price))\n",
    "        f=price[0]\n",
    "\n",
    "        print(i,demand,Q_b,Y_b,f)\n",
    "        time_start = time.perf_counter()\n",
    "        Gbest = GA_with_TS_with_sc(pop_size=pop_size, generation=generation,k=k,m_rate=m_rate,c_rate=c_rate, sc=sc)\n",
    "        time_elapsed = (time.perf_counter() - time_start)\n",
    "        print(Gbest['F'])\n",
    "        df_result_GA=df_result_GA.append({'style':i,'demand':demand,'Cost': ObjectiveFunction(Gbest),'sol':Gbest,\n",
    "                                          'Fitness':Gbest['F'],'Runtime': time_elapsed},\n",
    "                                         ignore_index=True)\n",
    "    #df_result_GA.to_excel('/Users/sharif-al-mahmud/Library/Mobile Documents/com~apple~CloudDocs/Thesis/Data/GA_industry_data_7_jan_23.xlsx')"
   ]
  },
  {
   "cell_type": "code",
   "execution_count": null,
   "metadata": {},
   "outputs": [],
   "source": [
    "df_result_GA"
   ]
  }
 ],
 "metadata": {
  "celltoolbar": "Raw Cell Format",
  "colab": {
   "provenance": []
  },
  "kernelspec": {
   "display_name": "Python 3",
   "language": "python",
   "name": "python3"
  },
  "language_info": {
   "codemirror_mode": {
    "name": "ipython",
    "version": 3
   },
   "file_extension": ".py",
   "mimetype": "text/x-python",
   "name": "python",
   "nbconvert_exporter": "python",
   "pygments_lexer": "ipython3",
   "version": "3.8.5"
  }
 },
 "nbformat": 4,
 "nbformat_minor": 1
}

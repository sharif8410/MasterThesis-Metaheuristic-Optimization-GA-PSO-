{
 "cells": [
  {
   "cell_type": "code",
   "execution_count": 1,
   "metadata": {
    "id": "2OSyEQpULIc7"
   },
   "outputs": [],
   "source": [
    "demand = [990,1980,3961,2971,1980]   \n",
    "d=0  # d% shortage allowance\n",
    "Y_b = [1.3086,1.3671,1.4183,1.4538,1.5122]           # Fabric yield (consumption rate) rate per garment of size 𝛽\n",
    "f= 1.95 # Fabric cost \n",
    "\n",
    "\n",
    "U = 1\n",
    "l_max= 20  #yrds\n",
    "e=0\n",
    "\n",
    "\n",
    "if len(demand)!=len(Y_b):\n",
    "    raise ValueError('number of sizes and number of fabric consumption does not match')\n",
    "\n",
    "#Input variables (setup cost)\n",
    "\n",
    "c_s=500  #setup cost\n",
    "c_e=20. #excess production cost\n",
    "\n",
    "P_min, P_max= 4,40"
   ]
  },
  {
   "cell_type": "code",
   "execution_count": 2,
   "metadata": {
    "id": "lKoIj6msLIc-"
   },
   "outputs": [],
   "source": [
    "import numpy as np\n",
    "import math\n",
    "from copy import deepcopy\n",
    "import random\n",
    "import time\n",
    "rng = np.random.default_rng()\n",
    "import pandas as pd"
   ]
  },
  {
   "cell_type": "code",
   "execution_count": 3,
   "metadata": {
    "id": "up2A5oimLIc_"
   },
   "outputs": [],
   "source": [
    "def Shortage_allowance(Q,d=0.01):\n",
    "    temp=np.dot((1-d),Q)\n",
    "    return [round(i) for i in temp]\n",
    "Q_b= Shortage_allowance(demand,d)\n",
    "\n",
    "# Q_b"
   ]
  },
  {
   "cell_type": "code",
   "execution_count": 4,
   "metadata": {
    "id": "e7L68FYRLIc_"
   },
   "outputs": [],
   "source": [
    "def Update_Res(R,GG,PP):\n",
    "    for s in range(len(GG)): #Updating Residual within the while loop\n",
    "        R=R-np.dot(GG[s],PP[s])\n",
    "    return R"
   ]
  },
  {
   "cell_type": "code",
   "execution_count": null,
   "metadata": {
    "id": "1gYjoEUILIc_"
   },
   "outputs": [],
   "source": []
  },
  {
   "cell_type": "code",
   "execution_count": 5,
   "metadata": {
    "id": "vjSc_y30LIc_"
   },
   "outputs": [],
   "source": [
    "def Length(g_i_j):\n",
    "    l_i = e+ np.dot(g_i_j,Y_b)/U\n",
    "    return l_i\n"
   ]
  },
  {
   "cell_type": "code",
   "execution_count": 6,
   "metadata": {
    "colab": {
     "base_uri": "https://localhost:8080/"
    },
    "id": "UvMhnoilLIdA",
    "outputId": "373e8cb9-558d-4de5-9357-1c03e5d0519d"
   },
   "outputs": [],
   "source": [
    "from Heuristics import H1,H3,H5,H3_MB2016,H1_T2020\n"
   ]
  },
  {
   "cell_type": "markdown",
   "metadata": {
    "id": "sD5MZfVmLIdA"
   },
   "source": [
    "## Crossover from (M'Hallah and Bouziri, 2016, p. 338)"
   ]
  },
  {
   "cell_type": "code",
   "execution_count": 7,
   "metadata": {
    "id": "N5gwdlX7LIdB"
   },
   "outputs": [],
   "source": [
    "def Crossover(Parent_1,Parent_2,crossover_rate=1):\n",
    "    '''\n",
    "    Parent_1,Parent_2 are dictionary containing G_a_b & P_a as values    \n",
    "    '''\n",
    "    \n",
    "    if rng.random() > crossover_rate:\n",
    "        return Parent_1\n",
    "\n",
    "    \n",
    "    G1 = Parent_1['G']\n",
    "    P1 = Parent_1['P'] \n",
    "    G2 = Parent_2['G']\n",
    "    P2 = Parent_2['P']\n",
    "    #print('P1:',P1)\n",
    "\n",
    "    m_1=len(G1)\n",
    "    Beta=len(G1[0])\n",
    "    \n",
    "    \n",
    "    cp=rng.integers(0,m_1,size=2)\n",
    "    cp.sort()    #cp is the cutpoint for crossover\n",
    "    #print('cp:', cp)\n",
    "    C_G= G1[cp[0]:cp[1]+1]\n",
    "    C_P= P1[cp[0]:cp[1]+1]\n",
    "    #print(C_G,C_P)\n",
    "\n",
    "    '''a few section is taken from Parent 1'''\n",
    "        \n",
    "\n",
    "    \n",
    "    r_b= Update_Res(Q_b, C_G, C_P)\n",
    "    #print('r_b:',r_b)\n",
    "    \n",
    "    '''r_b is the residual demand after few section taken from Parent1'''\n",
    "    \n",
    "    i=0\n",
    "    ''' i is the index number of sections(G) from Parent_2'''\n",
    "    \n",
    "    while max(r_b)>0:\n",
    "        #print(f'\\nresidual demand:{r_b}')\n",
    "        \n",
    "        g_i_j= list (np.zeros(Beta,dtype=int))\n",
    "        \n",
    "        if i<=(len(P2)-1) and max(r_b)>P_min:     \n",
    "            \n",
    "            K=[]\n",
    "            for j in range(Beta):\n",
    "                if G2[i][j]>0:\n",
    "                    K.append(j)\n",
    "            '''K in the list of index where g_i_j of Parent2 is greater than 0'''\n",
    "            \n",
    "            #print(f'G2: {G2} and K:{K}')\n",
    "            try:\n",
    "                GCD= np.gcd.reduce([r_b[k] for k in K if r_b[k]>0])\n",
    "            except:  #if the list is null\n",
    "                GCD=1 \n",
    "            '''GCD is LCD (r_s : r_s > 0, O_i_s > 0, s ∈ S)  \n",
    "            from (M'Hallah and Bouziri, 2016, p. 338)'''\n",
    "            \n",
    "           \n",
    "            p_i = max(P_min,min(P2[i],GCD)) ###\n",
    "            \n",
    "            #print(f'-{p_i}-')\n",
    "            for j in K:\n",
    "                '''K in the list of index where g_i_j of Parent2 is greater than 0'''\n",
    "                if r_b[j]>0:\n",
    "                    g_i_j[j]=min(math.floor(r_b[j]/p_i),math.floor((l_max-Length(g_i_j))/(Y_b[j]/U)))\n",
    "                '''else 0'''\n",
    "            \n",
    "            r_b= r_b-np.dot(g_i_j,p_i)\n",
    "\n",
    "\n",
    "                \n",
    "                \n",
    "            if max(g_i_j)>0:   #This is to avoid all zero section from adding\n",
    "                C_G.append(g_i_j)\n",
    "                C_P.append(p_i)\n",
    "            i+=1    # goto the next section of Parent2\n",
    "            \n",
    "        else:\n",
    "            p_i=min(P_max,max(P_min,np.gcd.reduce([k for k in r_b if k>0])))\n",
    "            #print(f'+{p_i}+')\n",
    "            for j in range(Beta):\n",
    "                if r_b[j]>0:\n",
    "                    g_i_j[j]=min(math.ceil(r_b[j]/p_i), math.floor((l_max-Length(g_i_j))/(Y_b[j]/U)))\n",
    "                \n",
    "                '''else 0 is already there '''\n",
    "\n",
    "\n",
    "                \n",
    "            r_b= r_b-np.dot(g_i_j,p_i)\n",
    "            \n",
    "            if max(g_i_j)>0:\n",
    "                C_G.append(g_i_j)\n",
    "                C_P.append(p_i)\n",
    "            i+=1\n",
    "            #break\n",
    "            \n",
    "    return {'G':C_G,'P':C_P}\n",
    "    \n",
    "# C=Crossover(Sol_1,Sol_2)\n",
    "# print(C)"
   ]
  },
  {
   "cell_type": "code",
   "execution_count": null,
   "metadata": {
    "id": "7iv-uw8WLIdB"
   },
   "outputs": [],
   "source": []
  },
  {
   "cell_type": "markdown",
   "metadata": {
    "id": "-YpBu2kdLIdB"
   },
   "source": [
    "## Mutation Operator from M&B 2016"
   ]
  },
  {
   "cell_type": "code",
   "execution_count": 8,
   "metadata": {
    "id": "OYbG5hb5LIdB"
   },
   "outputs": [],
   "source": [
    "def mutate(ii,jj,G,P):    \n",
    "\n",
    "    G[ii][jj]=0\n",
    "    r = Update_Res(Q_b,G,P)\n",
    "    Beta=len(G[0])\n",
    "    \n",
    "    #print('r2:',r)\n",
    "    if max(r)>0:\n",
    "        II=[x for x in range(len(G)) if x != ii and P[ii] <= max(r)]\n",
    "    while max(r)>0:\n",
    "        if II:\n",
    "            #print(f\"rearranging sections, mutated section:{ii}; reshuffle {II}\")\n",
    "            L={s: Length(G[s]) for s in II}\n",
    "            min_L=min(L)\n",
    "            idx= min(L, key=L.get)   #index to the min lengh of the sections \n",
    "            #print(f'L:{L}, min_index: {idx}')\n",
    "\n",
    "            G[idx][jj]= G[idx][jj] + min(math.ceil(r[jj]/P[idx]), math.floor((l_max-Length(G[idx]))/(Y_b[jj]/U)))\n",
    "            \n",
    "\n",
    "            II.remove(idx)  #removing the updated section from II\n",
    "        \n",
    "        else:\n",
    "            #print('create new section')\n",
    "            g= list(np.zeros(Beta,dtype=int))\n",
    "            p= min(P_max,max(P_min,r[jj]))\n",
    "            if p> r[jj]:\n",
    "                g[jj]=1\n",
    "            else:\n",
    "                g[jj]=min(math.floor(r[jj]/p), math.floor(l_max/(Y_b[jj]/U)))  #need to update in pseudocode\n",
    "                #print(g)\n",
    "            G.append(g)\n",
    "            P.append(p)\n",
    "            \n",
    "        \n",
    "        r = Update_Res(Q_b,G,P)  #Updating Residual within the while loop\n",
    "\n",
    "    #print(G,P)\n",
    "    return G,P\n",
    "\n",
    "\n",
    "def Mutation(Child, mutation_rate=0.1):\n",
    "\n",
    "    temp_Ch=deepcopy(Child)\n",
    "    M_G =temp_Ch['G']\n",
    "    M_P =temp_Ch['P']\n",
    "    Beta=len(M_G[0])\n",
    "    \n",
    "\n",
    "    for i in range(len(M_P)):\n",
    "        for j in range(Beta):\n",
    "            if rng.random()<mutation_rate:\n",
    "                M_G,M_P = mutate(i,j,M_G,M_P)   #user defined fuction\n",
    "\n",
    "\n",
    "    return {'G':M_G,'P':M_P}\n",
    "\n",
    "# C2=Mutation(C)\n",
    "# print(C2)\n",
    "# print(C)"
   ]
  },
  {
   "cell_type": "markdown",
   "metadata": {
    "id": "qNM7WIs3LIdB"
   },
   "source": [
    "## Objective Function"
   ]
  },
  {
   "cell_type": "code",
   "execution_count": 9,
   "metadata": {
    "id": "OK5A02UlLIdB"
   },
   "outputs": [],
   "source": [
    "def ObjectiveFunction (chromosome):\n",
    "    \n",
    "    G_a_b = chromosome['G']\n",
    "    P_a = chromosome['P']\n",
    "    Alpha = len(P_a)             # number of Sections\n",
    "    \n",
    "\n",
    "    '''                         Fabric Cost                      '''\n",
    "        \n",
    "    # Total fabric length = L # Total Fabric Cost = C_F\n",
    "\n",
    "    l_a=[Length(G_a_b[alpha]) for alpha in range(Alpha) ] #Length function\n",
    "    L= np.dot(l_a,P_a)       #Multiply then Sum\n",
    "    C_F = L*f\n",
    "    #print('Total Fabric Cost = C_F: ',C_F,'Length:',L)\n",
    "    \n",
    "    \n",
    "    '''                        setup Cost                        '''\n",
    "    \n",
    "    \n",
    "    C_S = 0\n",
    "    for α in range(Alpha):\n",
    "        if l_a[α]>e:   # this makes sure that section has at least one garments \n",
    "            C_S += c_s       \n",
    "    #print('Total setup Cost = C_S: ',C_S)\n",
    "\n",
    "    '''                        excess production Cost                        '''\n",
    "        \n",
    "    \n",
    "    C_E=0\n",
    "    R=Update_Res(R=Q_b, GG=G_a_b, PP=P_a)\n",
    "    for r in R:\n",
    "        if r<0:\n",
    "            C_E += (-r* c_e)\n",
    "    #print('Total excess prod Cost = C_E: ',C_E) \n",
    "    \n",
    "    return C_F+C_S+C_E"
   ]
  },
  {
   "cell_type": "code",
   "execution_count": 10,
   "metadata": {
    "colab": {
     "base_uri": "https://localhost:8080/"
    },
    "id": "mfVhIHaLLIdC",
    "outputId": "79642221-9a2f-4c93-a905-28e495198ad4"
   },
   "outputs": [],
   "source": [
    "# ObjectiveFunction(Sol_1)"
   ]
  },
  {
   "cell_type": "markdown",
   "metadata": {
    "id": "6VTsI_MILIdC"
   },
   "source": [
    "## Fitness Score"
   ]
  },
  {
   "cell_type": "code",
   "execution_count": 11,
   "metadata": {
    "id": "djwBa-ORLIdC"
   },
   "outputs": [],
   "source": [
    "def Fitness(chromosome): \n",
    "  \n",
    "    G_a_b= chromosome['G']\n",
    "    P_a = chromosome['P']\n",
    "    Beta= len(G_a_b[0])\n",
    "    \n",
    "    score= ObjectiveFunction(chromosome)\n",
    "    #print('score:',score)\n",
    "    fitness_score=score\n",
    "    \n",
    "                \n",
    "    '''       Penalty for shortage production           '''\n",
    "    R= Update_Res(R=demand,GG=G_a_b,PP=P_a)\n",
    "    for beta in range(Beta):\n",
    "        if R[beta]>0:\n",
    "            s_penalty= R[beta]/sum(demand)\n",
    "            fitness_score +=score*s_penalty/2 \n",
    "    \n",
    "    \n",
    "#     '''         Penalty for excess production           '''\n",
    "#     r=np.dot(1.02,demand)         # additional 2% allowance\n",
    "#     R= Update_Res(R=r,GG=G_a_b,PP=P_a)\n",
    "#     #print(R)\n",
    "#     for beta in range(Beta):\n",
    "#         if R[beta]<0:\n",
    "#             e_penalty= (-R[beta]/sum(demand))   # 2times than s_penalty\n",
    "#             fitness_score +=score*e_penalty   \n",
    "            \n",
    "\n",
    "    \n",
    "    '''       double check if the solution is valid       '''\n",
    "    res= Update_Res(R=Q_b,GG=G_a_b,PP=P_a)\n",
    "    if max(res)>0:\n",
    "        print('solution is unvalid in demand constraint')\n",
    "        fitness_score +=10000   #this will eventualy make the solution extinct.\n",
    "\n",
    "    for i in G_a_b:\n",
    "        if Length(i)>l_max:\n",
    "            print('breaking !! fitness !! solution is not valid in length constraint: ',i, Y_b, l_max,Length(i))\n",
    "            fitness_score +=10000\n",
    "    \n",
    "    return fitness_score\n",
    "\n",
    "# Fitness(Sol_1)    "
   ]
  },
  {
   "cell_type": "code",
   "execution_count": null,
   "metadata": {
    "id": "hDYVLuAeLIdC"
   },
   "outputs": [],
   "source": []
  },
  {
   "cell_type": "code",
   "execution_count": null,
   "metadata": {
    "id": "gwr1UWEpLIdC"
   },
   "outputs": [],
   "source": []
  },
  {
   "cell_type": "code",
   "execution_count": null,
   "metadata": {
    "id": "fzv6PNgRLIdC"
   },
   "outputs": [],
   "source": []
  },
  {
   "cell_type": "markdown",
   "metadata": {
    "id": "6T19lDiJLIdC"
   },
   "source": [
    "## Function Initial Population Generation"
   ]
  },
  {
   "cell_type": "code",
   "execution_count": 12,
   "metadata": {
    "colab": {
     "base_uri": "https://localhost:8080/"
    },
    "id": "8xlMO7H9LIdC",
    "outputId": "83a80528-2184-4215-ef79-41f4207d822c"
   },
   "outputs": [
    {
     "data": {
      "text/plain": [
       "50"
      ]
     },
     "execution_count": 12,
     "metadata": {},
     "output_type": "execute_result"
    }
   ],
   "source": [
    "def GeneratePopulation(pop_size):\n",
    "    sol1=H3_MB2016(Q=Q_b,Y=Y_b,Pm=[P_min,P_max],U=U,e=e,l_max=l_max)\n",
    "    sol2=H1_T2020(Q=Q_b,Y=Y_b,Pm=[P_min,P_max],U=U,e=e,l_max=l_max)\n",
    "    P_of_S=[]\n",
    "    for sol in (sol1,sol2):\n",
    "        i=0\n",
    "        for g in sol['G']:\n",
    "            if Length(g)>l_max:\n",
    "                i+=1\n",
    "        if i==0:\n",
    "            P_of_S.append(sol)\n",
    "    \n",
    "    while len(P_of_S)<pop_size:\n",
    "        h=rng.integers(0,3)\n",
    "        #print('h:',h)\n",
    "        if h==0:\n",
    "            sol= H1(Q=Q_b,Y=Y_b,Pm=[P_min,P_max],U=U,e=e,l_max=l_max)\n",
    "\n",
    "        elif h==1:\n",
    "            sol=H3(Q=Q_b,Y=Y_b,Pm=[P_min,P_max],U=U,e=e,l_max=l_max)\n",
    "\n",
    "        else:\n",
    "            sol=H5(Q=Q_b,Y=Y_b,Pm=[P_min,P_max],U=U,e=e,l_max=l_max)\n",
    "        i=0\n",
    "        for g in sol['G']:\n",
    "            if Length(g)>l_max:\n",
    "                i+=1\n",
    "        if i==0:\n",
    "            P_of_S.append(sol)\n",
    "    return P_of_S\n",
    "Pool_of_Sol= GeneratePopulation(50)\n",
    "len(Pool_of_Sol)"
   ]
  },
  {
   "cell_type": "code",
   "execution_count": 13,
   "metadata": {
    "id": "Ee2KsWV1LIdC"
   },
   "outputs": [],
   "source": [
    "def S_with_F(p_o_s):\n",
    "    for i in range(len(p_o_s)): \n",
    "        if 'F' not in p_o_s[i]:\n",
    "            p_o_s[i]['F']=Fitness(p_o_s[i])\n",
    "    return p_o_s"
   ]
  },
  {
   "cell_type": "code",
   "execution_count": 14,
   "metadata": {
    "colab": {
     "base_uri": "https://localhost:8080/"
    },
    "id": "xfr3Ts2oLIdC",
    "outputId": "33bcc33e-65b3-469b-813b-b548f317cafd"
   },
   "outputs": [],
   "source": [
    "# P_of_S_with_F= S_with_F(Pool_of_Sol)\n",
    "# print(type(P_of_S_with_F))"
   ]
  },
  {
   "cell_type": "markdown",
   "metadata": {
    "id": "LBH1xeSgLIdC"
   },
   "source": [
    "## Tournament Selection"
   ]
  },
  {
   "cell_type": "code",
   "execution_count": 15,
   "metadata": {
    "id": "CAeF1T3bLIdC"
   },
   "outputs": [],
   "source": [
    "def TournamentSelection(sol_list, k=3):\n",
    "    '''\n",
    "    k= number of random parents that take part in one tournament\n",
    "    k= 3 by default\n",
    "    '''\n",
    "\n",
    "    indexes= rng.integers(0,len(sol_list), size=k) \n",
    "    \n",
    "    psbl_parents = [sol_list[i] for i in indexes]\n",
    "    \n",
    "    psbl_parents = sorted(psbl_parents, key=lambda d: d['F'])\n",
    "    return deepcopy(psbl_parents[0])\n",
    "\n"
   ]
  },
  {
   "cell_type": "markdown",
   "metadata": {
    "id": "tRLfhVIXLIdD"
   },
   "source": [
    "## GA with Stopping Criteria"
   ]
  },
  {
   "cell_type": "code",
   "execution_count": 17,
   "metadata": {},
   "outputs": [],
   "source": [
    "def GA_with_TS_with_sc(pop_size, generation,k=3,m_rate=0.05,c_rate=0.95, sc=100):\n",
    "    \n",
    "    pool_of_sol= GeneratePopulation(pop_size)\n",
    "    pool_of_sol= S_with_F(pool_of_sol)\n",
    "\n",
    "    bests=[]\n",
    "    it=0\n",
    "    for g in range(generation):\n",
    "        for p in range(pop_size):            \n",
    "            Parent1,Parent2= [TournamentSelection(pool_of_sol,k=k)for i in range(2)]\n",
    "                    \n",
    "            child = Crossover(Parent1, Parent2, crossover_rate=c_rate)\n",
    "\n",
    "            mutated_child=Mutation(child,mutation_rate=m_rate)\n",
    "            mutated_child['F']=Fitness(mutated_child)\n",
    "            pool_of_sol.append(mutated_child)\n",
    "        \n",
    "        pool_of_sol= sorted(pool_of_sol, key=lambda d: d['F'])\n",
    "        pool_of_sol = pool_of_sol[:pop_size]\n",
    "        \n",
    "        if bests:\n",
    "            if bests[-1]['F']> pool_of_sol[0]['F']:\n",
    "                it=0\n",
    "            else: \n",
    "                it+=1\n",
    "        bests.append(pool_of_sol[0])\n",
    "        if it> sc:\n",
    "            print('break')\n",
    "            break\n",
    "        \n",
    "\n",
    "#     x=[i for i in range(len(bests))]\n",
    "#     yy=[bests[i]['F'] for i in range(len(bests))]\n",
    "#     fig=px.line(x=x,\n",
    "#                 y=yy,\n",
    "#                 title=f'pop_size={pop_size},generation= {generation},k={k},mu_rate= {m_rate},c_rate={c_rate}, best={yy[-1]}, sc={sc}',\n",
    "#                 labels=dict(x='generation',y='fitness'))\n",
    "#     fig.show()\n",
    "    \n",
    "    return bests[-1]"
   ]
  },
  {
   "cell_type": "markdown",
   "metadata": {},
   "source": [
    "## Aplying to Tsao et al. dataset"
   ]
  },
  {
   "cell_type": "code",
   "execution_count": 18,
   "metadata": {},
   "outputs": [],
   "source": [
    "path='/Users/sharif-al-mahmud/Library/Mobile Documents/com~apple~CloudDocs/Thesis/Data/DataSets.xlsx'"
   ]
  },
  {
   "cell_type": "code",
   "execution_count": 19,
   "metadata": {
    "id": "aIqEWgCMLIdD"
   },
   "outputs": [],
   "source": [
    "df=pd.read_excel(path,sheet_name='Sheet4',index_col=[0])"
   ]
  },
  {
   "cell_type": "code",
   "execution_count": 20,
   "metadata": {},
   "outputs": [],
   "source": [
    "df=df.T\n",
    "\n",
    "df.columns = df.columns.str.strip()\n",
    "\n",
    "col=list(df.columns)\n",
    "col= sorted(set(col), key=col.index)\n"
   ]
  },
  {
   "cell_type": "code",
   "execution_count": 21,
   "metadata": {},
   "outputs": [
    {
     "data": {
      "text/html": [
       "<div>\n",
       "<style scoped>\n",
       "    .dataframe tbody tr th:only-of-type {\n",
       "        vertical-align: middle;\n",
       "    }\n",
       "\n",
       "    .dataframe tbody tr th {\n",
       "        vertical-align: top;\n",
       "    }\n",
       "\n",
       "    .dataframe thead th {\n",
       "        text-align: right;\n",
       "    }\n",
       "</style>\n",
       "<table border=\"1\" class=\"dataframe\">\n",
       "  <thead>\n",
       "    <tr style=\"text-align: right;\">\n",
       "      <th>Style</th>\n",
       "      <th>S4</th>\n",
       "      <th>S4</th>\n",
       "      <th>S4</th>\n",
       "      <th>S4</th>\n",
       "      <th>S5</th>\n",
       "      <th>S5</th>\n",
       "      <th>S5</th>\n",
       "      <th>S5</th>\n",
       "      <th>S5</th>\n",
       "      <th>S7</th>\n",
       "      <th>...</th>\n",
       "      <th>B5</th>\n",
       "      <th>B5</th>\n",
       "      <th>B5</th>\n",
       "      <th>B7</th>\n",
       "      <th>B7</th>\n",
       "      <th>B7</th>\n",
       "      <th>B7</th>\n",
       "      <th>B7</th>\n",
       "      <th>B7</th>\n",
       "      <th>B7</th>\n",
       "    </tr>\n",
       "  </thead>\n",
       "  <tbody>\n",
       "    <tr>\n",
       "      <th>Demand</th>\n",
       "      <td>80.00</td>\n",
       "      <td>95.000</td>\n",
       "      <td>58.000</td>\n",
       "      <td>28.0</td>\n",
       "      <td>25.00</td>\n",
       "      <td>95.000</td>\n",
       "      <td>145.000</td>\n",
       "      <td>130.0</td>\n",
       "      <td>25.000</td>\n",
       "      <td>8.00</td>\n",
       "      <td>...</td>\n",
       "      <td>12498.0</td>\n",
       "      <td>2256.000</td>\n",
       "      <td>569.000</td>\n",
       "      <td>6780.00</td>\n",
       "      <td>14526.000</td>\n",
       "      <td>16473.000</td>\n",
       "      <td>18767.0</td>\n",
       "      <td>112498.000</td>\n",
       "      <td>8569.000</td>\n",
       "      <td>6532.0</td>\n",
       "    </tr>\n",
       "    <tr>\n",
       "      <th>Consumption</th>\n",
       "      <td>1.42</td>\n",
       "      <td>1.441</td>\n",
       "      <td>1.462</td>\n",
       "      <td>1.5</td>\n",
       "      <td>1.42</td>\n",
       "      <td>1.441</td>\n",
       "      <td>1.462</td>\n",
       "      <td>1.5</td>\n",
       "      <td>1.523</td>\n",
       "      <td>1.42</td>\n",
       "      <td>...</td>\n",
       "      <td>1.5</td>\n",
       "      <td>1.523</td>\n",
       "      <td>1.634</td>\n",
       "      <td>1.42</td>\n",
       "      <td>1.441</td>\n",
       "      <td>1.462</td>\n",
       "      <td>1.5</td>\n",
       "      <td>1.523</td>\n",
       "      <td>1.634</td>\n",
       "      <td>1.7</td>\n",
       "    </tr>\n",
       "    <tr>\n",
       "      <th>Price/unit length</th>\n",
       "      <td>10.00</td>\n",
       "      <td>NaN</td>\n",
       "      <td>NaN</td>\n",
       "      <td>NaN</td>\n",
       "      <td>10.00</td>\n",
       "      <td>NaN</td>\n",
       "      <td>NaN</td>\n",
       "      <td>NaN</td>\n",
       "      <td>NaN</td>\n",
       "      <td>10.00</td>\n",
       "      <td>...</td>\n",
       "      <td>NaN</td>\n",
       "      <td>NaN</td>\n",
       "      <td>NaN</td>\n",
       "      <td>10.00</td>\n",
       "      <td>NaN</td>\n",
       "      <td>NaN</td>\n",
       "      <td>NaN</td>\n",
       "      <td>NaN</td>\n",
       "      <td>NaN</td>\n",
       "      <td>NaN</td>\n",
       "    </tr>\n",
       "  </tbody>\n",
       "</table>\n",
       "<p>3 rows × 49 columns</p>\n",
       "</div>"
      ],
      "text/plain": [
       "Style                 S4      S4      S4    S4     S5      S5       S5     S5  \\\n",
       "Demand             80.00  95.000  58.000  28.0  25.00  95.000  145.000  130.0   \n",
       "Consumption         1.42   1.441   1.462   1.5   1.42   1.441    1.462    1.5   \n",
       "Price/unit length  10.00     NaN     NaN   NaN  10.00     NaN      NaN    NaN   \n",
       "\n",
       "Style                  S5     S7  ...       B5        B5       B5       B7  \\\n",
       "Demand             25.000   8.00  ...  12498.0  2256.000  569.000  6780.00   \n",
       "Consumption         1.523   1.42  ...      1.5     1.523    1.634     1.42   \n",
       "Price/unit length     NaN  10.00  ...      NaN       NaN      NaN    10.00   \n",
       "\n",
       "Style                     B7         B7       B7          B7        B7      B7  \n",
       "Demand             14526.000  16473.000  18767.0  112498.000  8569.000  6532.0  \n",
       "Consumption            1.441      1.462      1.5       1.523     1.634     1.7  \n",
       "Price/unit length        NaN        NaN      NaN         NaN       NaN     NaN  \n",
       "\n",
       "[3 rows x 49 columns]"
      ]
     },
     "execution_count": 21,
     "metadata": {},
     "output_type": "execute_result"
    }
   ],
   "source": [
    "df"
   ]
  },
  {
   "cell_type": "code",
   "execution_count": 22,
   "metadata": {},
   "outputs": [
    {
     "data": {
      "text/plain": [
       "['S4', 'S5', 'S7', 'M4', 'M5', 'M7', 'B4', 'B5', 'B7']"
      ]
     },
     "execution_count": 22,
     "metadata": {},
     "output_type": "execute_result"
    }
   ],
   "source": [
    "col"
   ]
  },
  {
   "cell_type": "markdown",
   "metadata": {},
   "source": []
  },
  {
   "cell_type": "code",
   "execution_count": null,
   "metadata": {},
   "outputs": [],
   "source": []
  },
  {
   "cell_type": "markdown",
   "metadata": {},
   "source": [
    "## Selected Parameters : \n",
    "* k= 2, \n",
    "* c_rate= 0.95, \n",
    "* m_rate= 0.003, \n",
    "* sc= 99 (stoping criteria)\n",
    "* pop_size= 200, \n",
    "* generation= 200"
   ]
  },
  {
   "cell_type": "code",
   "execution_count": 24,
   "metadata": {
    "collapsed": true
   },
   "outputs": [
    {
     "name": "stdout",
     "output_type": "stream",
     "text": [
      "S4 [80, 95, 58, 28] [80, 95, 58, 28] [1.42, 1.441, 1.462, 1.5] 10.0\n",
      "break\n",
      "{'G': [[2, 3, 0, 1], [6, 0, 1, 0], [0, 1, 5, 0]], 'P': [28, 4, 11], 'F': 5307.530000000001} time: 6.006182625000008\n",
      "S5 [25, 95, 145, 130, 25] [25, 95, 145, 130, 25] [1.42, 1.441, 1.462, 1.5, 1.523] 10.0\n",
      "break\n",
      "{'G': [[0, 3, 4, 5, 1], [0, 4, 9, 0, 0], [5, 0, 0, 1, 0]], 'P': [25, 5, 5], 'F': 7674.599999999999} time: 5.572360375000017\n",
      "S7 [8, 105, 92, 56, 34, 10, 5] [8, 105, 92, 56, 34, 10, 5] [1.42, 1.441, 1.462, 1.5, 1.523, 1.634, 1.7] 10.0\n",
      "break\n",
      "{'G': [[0, 1, 5, 0, 3, 0, 0], [0, 0, 0, 0, 0, 0, 0], [1, 12, 0, 0, 0, 0, 0], [0, 0, 0, 8, 1, 0, 0], [0, 0, 10, 0, 0, 2, 1]], 'P': [9, 5, 8, 7, 5], 'F': 6681.77} time: 13.207427042000006\n",
      "M4 [654, 443, 938, 245] [654, 443, 938, 245] [1.42, 1.441, 1.462, 1.5] 10.0\n",
      "break\n",
      "{'G': [[0, 0, 10, 3], [5, 1, 1, 6], [1, 12, 0, 0], [0, 9, 0, 0], [0, 1, 0, 1], [0, 0, 0, 0], [0, 0, 13, 0], [14, 0, 0, 0]], 'P': [40, 18, 4, 40, 17, 17, 40, 40], 'F': 36558.98999999999} time: 17.442518667\n",
      "M5 [100, 443, 938, 245, 234] [100, 443, 938, 245, 234] [1.42, 1.441, 1.462, 1.5, 1.523] 10.0\n",
      "break\n",
      "{'G': [[4, 0, 0, 1, 0], [0, 12, 0, 0, 1], [0, 1, 12, 0, 0], [0, 0, 13, 0, 0], [2, 0, 0, 6, 5]], 'P': [5, 34, 35, 40, 40], 'F': 31325.249999999996} time: 23.189001666000024\n",
      "M7 [143, 443, 1004, 345, 756, 257, 156] [143, 443, 1004, 345, 756, 257, 156] [1.42, 1.441, 1.462, 1.5, 1.523, 1.634, 1.7] 10.0\n"
     ]
    },
    {
     "ename": "KeyboardInterrupt",
     "evalue": "",
     "output_type": "error",
     "traceback": [
      "\u001b[0;31m---------------------------------------------------------------------------\u001b[0m",
      "\u001b[0;31mKeyboardInterrupt\u001b[0m                         Traceback (most recent call last)",
      "\u001b[0;32m<ipython-input-24-9bf8188fff63>\u001b[0m in \u001b[0;36m<module>\u001b[0;34m\u001b[0m\n\u001b[1;32m     23\u001b[0m         \u001b[0mprint\u001b[0m\u001b[0;34m(\u001b[0m\u001b[0mi\u001b[0m\u001b[0;34m,\u001b[0m\u001b[0mdemand\u001b[0m\u001b[0;34m,\u001b[0m\u001b[0mQ_b\u001b[0m\u001b[0;34m,\u001b[0m\u001b[0mY_b\u001b[0m\u001b[0;34m,\u001b[0m\u001b[0mf\u001b[0m\u001b[0;34m)\u001b[0m\u001b[0;34m\u001b[0m\u001b[0;34m\u001b[0m\u001b[0m\n\u001b[1;32m     24\u001b[0m         \u001b[0mtime_start\u001b[0m \u001b[0;34m=\u001b[0m \u001b[0mtime\u001b[0m\u001b[0;34m.\u001b[0m\u001b[0mperf_counter\u001b[0m\u001b[0;34m(\u001b[0m\u001b[0;34m)\u001b[0m\u001b[0;34m\u001b[0m\u001b[0;34m\u001b[0m\u001b[0m\n\u001b[0;32m---> 25\u001b[0;31m         \u001b[0mGbest\u001b[0m \u001b[0;34m=\u001b[0m \u001b[0mGA_with_TS_with_sc\u001b[0m\u001b[0;34m(\u001b[0m\u001b[0mpop_size\u001b[0m\u001b[0;34m=\u001b[0m\u001b[0mpop_size\u001b[0m\u001b[0;34m,\u001b[0m \u001b[0mgeneration\u001b[0m\u001b[0;34m=\u001b[0m\u001b[0mgeneration\u001b[0m\u001b[0;34m,\u001b[0m\u001b[0mk\u001b[0m\u001b[0;34m=\u001b[0m\u001b[0mk\u001b[0m\u001b[0;34m,\u001b[0m\u001b[0mm_rate\u001b[0m\u001b[0;34m=\u001b[0m\u001b[0mm_rate\u001b[0m\u001b[0;34m,\u001b[0m\u001b[0mc_rate\u001b[0m\u001b[0;34m=\u001b[0m\u001b[0mc_rate\u001b[0m\u001b[0;34m,\u001b[0m \u001b[0msc\u001b[0m\u001b[0;34m=\u001b[0m\u001b[0msc\u001b[0m\u001b[0;34m)\u001b[0m\u001b[0;34m\u001b[0m\u001b[0;34m\u001b[0m\u001b[0m\n\u001b[0m\u001b[1;32m     26\u001b[0m         \u001b[0mtime_elapsed\u001b[0m \u001b[0;34m=\u001b[0m \u001b[0;34m(\u001b[0m\u001b[0mtime\u001b[0m\u001b[0;34m.\u001b[0m\u001b[0mperf_counter\u001b[0m\u001b[0;34m(\u001b[0m\u001b[0;34m)\u001b[0m \u001b[0;34m-\u001b[0m \u001b[0mtime_start\u001b[0m\u001b[0;34m)\u001b[0m\u001b[0;34m\u001b[0m\u001b[0;34m\u001b[0m\u001b[0m\n\u001b[1;32m     27\u001b[0m         \u001b[0mprint\u001b[0m\u001b[0;34m(\u001b[0m\u001b[0mGbest\u001b[0m\u001b[0;34m,\u001b[0m \u001b[0;34m'time:'\u001b[0m\u001b[0;34m,\u001b[0m \u001b[0mtime_elapsed\u001b[0m\u001b[0;34m)\u001b[0m\u001b[0;34m\u001b[0m\u001b[0;34m\u001b[0m\u001b[0m\n",
      "\u001b[0;32m<ipython-input-17-780fb7d4efde>\u001b[0m in \u001b[0;36mGA_with_TS_with_sc\u001b[0;34m(pop_size, generation, k, m_rate, c_rate, sc)\u001b[0m\n\u001b[1;32m      8\u001b[0m     \u001b[0;32mfor\u001b[0m \u001b[0mg\u001b[0m \u001b[0;32min\u001b[0m \u001b[0mrange\u001b[0m\u001b[0;34m(\u001b[0m\u001b[0mgeneration\u001b[0m\u001b[0;34m)\u001b[0m\u001b[0;34m:\u001b[0m\u001b[0;34m\u001b[0m\u001b[0;34m\u001b[0m\u001b[0m\n\u001b[1;32m      9\u001b[0m         \u001b[0;32mfor\u001b[0m \u001b[0mp\u001b[0m \u001b[0;32min\u001b[0m \u001b[0mrange\u001b[0m\u001b[0;34m(\u001b[0m\u001b[0mpop_size\u001b[0m\u001b[0;34m)\u001b[0m\u001b[0;34m:\u001b[0m\u001b[0;34m\u001b[0m\u001b[0;34m\u001b[0m\u001b[0m\n\u001b[0;32m---> 10\u001b[0;31m             \u001b[0mParent1\u001b[0m\u001b[0;34m,\u001b[0m\u001b[0mParent2\u001b[0m\u001b[0;34m=\u001b[0m \u001b[0;34m[\u001b[0m\u001b[0mTournamentSelection\u001b[0m\u001b[0;34m(\u001b[0m\u001b[0mpool_of_sol\u001b[0m\u001b[0;34m,\u001b[0m\u001b[0mk\u001b[0m\u001b[0;34m=\u001b[0m\u001b[0mk\u001b[0m\u001b[0;34m)\u001b[0m\u001b[0;32mfor\u001b[0m \u001b[0mi\u001b[0m \u001b[0;32min\u001b[0m \u001b[0mrange\u001b[0m\u001b[0;34m(\u001b[0m\u001b[0;36m2\u001b[0m\u001b[0;34m)\u001b[0m\u001b[0;34m]\u001b[0m\u001b[0;34m\u001b[0m\u001b[0;34m\u001b[0m\u001b[0m\n\u001b[0m\u001b[1;32m     11\u001b[0m \u001b[0;34m\u001b[0m\u001b[0m\n\u001b[1;32m     12\u001b[0m             \u001b[0mchild\u001b[0m \u001b[0;34m=\u001b[0m \u001b[0mCrossover\u001b[0m\u001b[0;34m(\u001b[0m\u001b[0mParent1\u001b[0m\u001b[0;34m,\u001b[0m \u001b[0mParent2\u001b[0m\u001b[0;34m,\u001b[0m \u001b[0mcrossover_rate\u001b[0m\u001b[0;34m=\u001b[0m\u001b[0mc_rate\u001b[0m\u001b[0;34m)\u001b[0m\u001b[0;34m\u001b[0m\u001b[0;34m\u001b[0m\u001b[0m\n",
      "\u001b[0;32m<ipython-input-17-780fb7d4efde>\u001b[0m in \u001b[0;36m<listcomp>\u001b[0;34m(.0)\u001b[0m\n\u001b[1;32m      8\u001b[0m     \u001b[0;32mfor\u001b[0m \u001b[0mg\u001b[0m \u001b[0;32min\u001b[0m \u001b[0mrange\u001b[0m\u001b[0;34m(\u001b[0m\u001b[0mgeneration\u001b[0m\u001b[0;34m)\u001b[0m\u001b[0;34m:\u001b[0m\u001b[0;34m\u001b[0m\u001b[0;34m\u001b[0m\u001b[0m\n\u001b[1;32m      9\u001b[0m         \u001b[0;32mfor\u001b[0m \u001b[0mp\u001b[0m \u001b[0;32min\u001b[0m \u001b[0mrange\u001b[0m\u001b[0;34m(\u001b[0m\u001b[0mpop_size\u001b[0m\u001b[0;34m)\u001b[0m\u001b[0;34m:\u001b[0m\u001b[0;34m\u001b[0m\u001b[0;34m\u001b[0m\u001b[0m\n\u001b[0;32m---> 10\u001b[0;31m             \u001b[0mParent1\u001b[0m\u001b[0;34m,\u001b[0m\u001b[0mParent2\u001b[0m\u001b[0;34m=\u001b[0m \u001b[0;34m[\u001b[0m\u001b[0mTournamentSelection\u001b[0m\u001b[0;34m(\u001b[0m\u001b[0mpool_of_sol\u001b[0m\u001b[0;34m,\u001b[0m\u001b[0mk\u001b[0m\u001b[0;34m=\u001b[0m\u001b[0mk\u001b[0m\u001b[0;34m)\u001b[0m\u001b[0;32mfor\u001b[0m \u001b[0mi\u001b[0m \u001b[0;32min\u001b[0m \u001b[0mrange\u001b[0m\u001b[0;34m(\u001b[0m\u001b[0;36m2\u001b[0m\u001b[0;34m)\u001b[0m\u001b[0;34m]\u001b[0m\u001b[0;34m\u001b[0m\u001b[0;34m\u001b[0m\u001b[0m\n\u001b[0m\u001b[1;32m     11\u001b[0m \u001b[0;34m\u001b[0m\u001b[0m\n\u001b[1;32m     12\u001b[0m             \u001b[0mchild\u001b[0m \u001b[0;34m=\u001b[0m \u001b[0mCrossover\u001b[0m\u001b[0;34m(\u001b[0m\u001b[0mParent1\u001b[0m\u001b[0;34m,\u001b[0m \u001b[0mParent2\u001b[0m\u001b[0;34m,\u001b[0m \u001b[0mcrossover_rate\u001b[0m\u001b[0;34m=\u001b[0m\u001b[0mc_rate\u001b[0m\u001b[0;34m)\u001b[0m\u001b[0;34m\u001b[0m\u001b[0;34m\u001b[0m\u001b[0m\n",
      "\u001b[0;32m<ipython-input-15-150a478c6782>\u001b[0m in \u001b[0;36mTournamentSelection\u001b[0;34m(sol_list, k)\u001b[0m\n\u001b[1;32m     10\u001b[0m \u001b[0;34m\u001b[0m\u001b[0m\n\u001b[1;32m     11\u001b[0m     \u001b[0mpsbl_parents\u001b[0m \u001b[0;34m=\u001b[0m \u001b[0msorted\u001b[0m\u001b[0;34m(\u001b[0m\u001b[0mpsbl_parents\u001b[0m\u001b[0;34m,\u001b[0m \u001b[0mkey\u001b[0m\u001b[0;34m=\u001b[0m\u001b[0;32mlambda\u001b[0m \u001b[0md\u001b[0m\u001b[0;34m:\u001b[0m \u001b[0md\u001b[0m\u001b[0;34m[\u001b[0m\u001b[0;34m'F'\u001b[0m\u001b[0;34m]\u001b[0m\u001b[0;34m)\u001b[0m\u001b[0;34m\u001b[0m\u001b[0;34m\u001b[0m\u001b[0m\n\u001b[0;32m---> 12\u001b[0;31m     \u001b[0;32mreturn\u001b[0m \u001b[0mdeepcopy\u001b[0m\u001b[0;34m(\u001b[0m\u001b[0mpsbl_parents\u001b[0m\u001b[0;34m[\u001b[0m\u001b[0;36m0\u001b[0m\u001b[0;34m]\u001b[0m\u001b[0;34m)\u001b[0m\u001b[0;34m\u001b[0m\u001b[0;34m\u001b[0m\u001b[0m\n\u001b[0m\u001b[1;32m     13\u001b[0m \u001b[0;34m\u001b[0m\u001b[0m\n",
      "\u001b[0;32m~/opt/anaconda3/lib/python3.8/copy.py\u001b[0m in \u001b[0;36mdeepcopy\u001b[0;34m(x, memo, _nil)\u001b[0m\n\u001b[1;32m    144\u001b[0m     \u001b[0mcopier\u001b[0m \u001b[0;34m=\u001b[0m \u001b[0m_deepcopy_dispatch\u001b[0m\u001b[0;34m.\u001b[0m\u001b[0mget\u001b[0m\u001b[0;34m(\u001b[0m\u001b[0mcls\u001b[0m\u001b[0;34m)\u001b[0m\u001b[0;34m\u001b[0m\u001b[0;34m\u001b[0m\u001b[0m\n\u001b[1;32m    145\u001b[0m     \u001b[0;32mif\u001b[0m \u001b[0mcopier\u001b[0m \u001b[0;32mis\u001b[0m \u001b[0;32mnot\u001b[0m \u001b[0;32mNone\u001b[0m\u001b[0;34m:\u001b[0m\u001b[0;34m\u001b[0m\u001b[0;34m\u001b[0m\u001b[0m\n\u001b[0;32m--> 146\u001b[0;31m         \u001b[0my\u001b[0m \u001b[0;34m=\u001b[0m \u001b[0mcopier\u001b[0m\u001b[0;34m(\u001b[0m\u001b[0mx\u001b[0m\u001b[0;34m,\u001b[0m \u001b[0mmemo\u001b[0m\u001b[0;34m)\u001b[0m\u001b[0;34m\u001b[0m\u001b[0;34m\u001b[0m\u001b[0m\n\u001b[0m\u001b[1;32m    147\u001b[0m     \u001b[0;32melse\u001b[0m\u001b[0;34m:\u001b[0m\u001b[0;34m\u001b[0m\u001b[0;34m\u001b[0m\u001b[0m\n\u001b[1;32m    148\u001b[0m         \u001b[0;32mif\u001b[0m \u001b[0missubclass\u001b[0m\u001b[0;34m(\u001b[0m\u001b[0mcls\u001b[0m\u001b[0;34m,\u001b[0m \u001b[0mtype\u001b[0m\u001b[0;34m)\u001b[0m\u001b[0;34m:\u001b[0m\u001b[0;34m\u001b[0m\u001b[0;34m\u001b[0m\u001b[0m\n",
      "\u001b[0;32m~/opt/anaconda3/lib/python3.8/copy.py\u001b[0m in \u001b[0;36m_deepcopy_dict\u001b[0;34m(x, memo, deepcopy)\u001b[0m\n\u001b[1;32m    228\u001b[0m     \u001b[0mmemo\u001b[0m\u001b[0;34m[\u001b[0m\u001b[0mid\u001b[0m\u001b[0;34m(\u001b[0m\u001b[0mx\u001b[0m\u001b[0;34m)\u001b[0m\u001b[0;34m]\u001b[0m \u001b[0;34m=\u001b[0m \u001b[0my\u001b[0m\u001b[0;34m\u001b[0m\u001b[0;34m\u001b[0m\u001b[0m\n\u001b[1;32m    229\u001b[0m     \u001b[0;32mfor\u001b[0m \u001b[0mkey\u001b[0m\u001b[0;34m,\u001b[0m \u001b[0mvalue\u001b[0m \u001b[0;32min\u001b[0m \u001b[0mx\u001b[0m\u001b[0;34m.\u001b[0m\u001b[0mitems\u001b[0m\u001b[0;34m(\u001b[0m\u001b[0;34m)\u001b[0m\u001b[0;34m:\u001b[0m\u001b[0;34m\u001b[0m\u001b[0;34m\u001b[0m\u001b[0m\n\u001b[0;32m--> 230\u001b[0;31m         \u001b[0my\u001b[0m\u001b[0;34m[\u001b[0m\u001b[0mdeepcopy\u001b[0m\u001b[0;34m(\u001b[0m\u001b[0mkey\u001b[0m\u001b[0;34m,\u001b[0m \u001b[0mmemo\u001b[0m\u001b[0;34m)\u001b[0m\u001b[0;34m]\u001b[0m \u001b[0;34m=\u001b[0m \u001b[0mdeepcopy\u001b[0m\u001b[0;34m(\u001b[0m\u001b[0mvalue\u001b[0m\u001b[0;34m,\u001b[0m \u001b[0mmemo\u001b[0m\u001b[0;34m)\u001b[0m\u001b[0;34m\u001b[0m\u001b[0;34m\u001b[0m\u001b[0m\n\u001b[0m\u001b[1;32m    231\u001b[0m     \u001b[0;32mreturn\u001b[0m \u001b[0my\u001b[0m\u001b[0;34m\u001b[0m\u001b[0;34m\u001b[0m\u001b[0m\n\u001b[1;32m    232\u001b[0m \u001b[0md\u001b[0m\u001b[0;34m[\u001b[0m\u001b[0mdict\u001b[0m\u001b[0;34m]\u001b[0m \u001b[0;34m=\u001b[0m \u001b[0m_deepcopy_dict\u001b[0m\u001b[0;34m\u001b[0m\u001b[0;34m\u001b[0m\u001b[0m\n",
      "\u001b[0;32m~/opt/anaconda3/lib/python3.8/copy.py\u001b[0m in \u001b[0;36mdeepcopy\u001b[0;34m(x, memo, _nil)\u001b[0m\n\u001b[1;32m    144\u001b[0m     \u001b[0mcopier\u001b[0m \u001b[0;34m=\u001b[0m \u001b[0m_deepcopy_dispatch\u001b[0m\u001b[0;34m.\u001b[0m\u001b[0mget\u001b[0m\u001b[0;34m(\u001b[0m\u001b[0mcls\u001b[0m\u001b[0;34m)\u001b[0m\u001b[0;34m\u001b[0m\u001b[0;34m\u001b[0m\u001b[0m\n\u001b[1;32m    145\u001b[0m     \u001b[0;32mif\u001b[0m \u001b[0mcopier\u001b[0m \u001b[0;32mis\u001b[0m \u001b[0;32mnot\u001b[0m \u001b[0;32mNone\u001b[0m\u001b[0;34m:\u001b[0m\u001b[0;34m\u001b[0m\u001b[0;34m\u001b[0m\u001b[0m\n\u001b[0;32m--> 146\u001b[0;31m         \u001b[0my\u001b[0m \u001b[0;34m=\u001b[0m \u001b[0mcopier\u001b[0m\u001b[0;34m(\u001b[0m\u001b[0mx\u001b[0m\u001b[0;34m,\u001b[0m \u001b[0mmemo\u001b[0m\u001b[0;34m)\u001b[0m\u001b[0;34m\u001b[0m\u001b[0;34m\u001b[0m\u001b[0m\n\u001b[0m\u001b[1;32m    147\u001b[0m     \u001b[0;32melse\u001b[0m\u001b[0;34m:\u001b[0m\u001b[0;34m\u001b[0m\u001b[0;34m\u001b[0m\u001b[0m\n\u001b[1;32m    148\u001b[0m         \u001b[0;32mif\u001b[0m \u001b[0missubclass\u001b[0m\u001b[0;34m(\u001b[0m\u001b[0mcls\u001b[0m\u001b[0;34m,\u001b[0m \u001b[0mtype\u001b[0m\u001b[0;34m)\u001b[0m\u001b[0;34m:\u001b[0m\u001b[0;34m\u001b[0m\u001b[0;34m\u001b[0m\u001b[0m\n",
      "\u001b[0;32m~/opt/anaconda3/lib/python3.8/copy.py\u001b[0m in \u001b[0;36m_deepcopy_list\u001b[0;34m(x, memo, deepcopy)\u001b[0m\n\u001b[1;32m    203\u001b[0m     \u001b[0mappend\u001b[0m \u001b[0;34m=\u001b[0m \u001b[0my\u001b[0m\u001b[0;34m.\u001b[0m\u001b[0mappend\u001b[0m\u001b[0;34m\u001b[0m\u001b[0;34m\u001b[0m\u001b[0m\n\u001b[1;32m    204\u001b[0m     \u001b[0;32mfor\u001b[0m \u001b[0ma\u001b[0m \u001b[0;32min\u001b[0m \u001b[0mx\u001b[0m\u001b[0;34m:\u001b[0m\u001b[0;34m\u001b[0m\u001b[0;34m\u001b[0m\u001b[0m\n\u001b[0;32m--> 205\u001b[0;31m         \u001b[0mappend\u001b[0m\u001b[0;34m(\u001b[0m\u001b[0mdeepcopy\u001b[0m\u001b[0;34m(\u001b[0m\u001b[0ma\u001b[0m\u001b[0;34m,\u001b[0m \u001b[0mmemo\u001b[0m\u001b[0;34m)\u001b[0m\u001b[0;34m)\u001b[0m\u001b[0;34m\u001b[0m\u001b[0;34m\u001b[0m\u001b[0m\n\u001b[0m\u001b[1;32m    206\u001b[0m     \u001b[0;32mreturn\u001b[0m \u001b[0my\u001b[0m\u001b[0;34m\u001b[0m\u001b[0;34m\u001b[0m\u001b[0m\n\u001b[1;32m    207\u001b[0m \u001b[0md\u001b[0m\u001b[0;34m[\u001b[0m\u001b[0mlist\u001b[0m\u001b[0;34m]\u001b[0m \u001b[0;34m=\u001b[0m \u001b[0m_deepcopy_list\u001b[0m\u001b[0;34m\u001b[0m\u001b[0;34m\u001b[0m\u001b[0m\n",
      "\u001b[0;32m~/opt/anaconda3/lib/python3.8/copy.py\u001b[0m in \u001b[0;36mdeepcopy\u001b[0;34m(x, memo, _nil)\u001b[0m\n\u001b[1;32m    142\u001b[0m     \u001b[0mcls\u001b[0m \u001b[0;34m=\u001b[0m \u001b[0mtype\u001b[0m\u001b[0;34m(\u001b[0m\u001b[0mx\u001b[0m\u001b[0;34m)\u001b[0m\u001b[0;34m\u001b[0m\u001b[0;34m\u001b[0m\u001b[0m\n\u001b[1;32m    143\u001b[0m \u001b[0;34m\u001b[0m\u001b[0m\n\u001b[0;32m--> 144\u001b[0;31m     \u001b[0mcopier\u001b[0m \u001b[0;34m=\u001b[0m \u001b[0m_deepcopy_dispatch\u001b[0m\u001b[0;34m.\u001b[0m\u001b[0mget\u001b[0m\u001b[0;34m(\u001b[0m\u001b[0mcls\u001b[0m\u001b[0;34m)\u001b[0m\u001b[0;34m\u001b[0m\u001b[0;34m\u001b[0m\u001b[0m\n\u001b[0m\u001b[1;32m    145\u001b[0m     \u001b[0;32mif\u001b[0m \u001b[0mcopier\u001b[0m \u001b[0;32mis\u001b[0m \u001b[0;32mnot\u001b[0m \u001b[0;32mNone\u001b[0m\u001b[0;34m:\u001b[0m\u001b[0;34m\u001b[0m\u001b[0;34m\u001b[0m\u001b[0m\n\u001b[1;32m    146\u001b[0m         \u001b[0my\u001b[0m \u001b[0;34m=\u001b[0m \u001b[0mcopier\u001b[0m\u001b[0;34m(\u001b[0m\u001b[0mx\u001b[0m\u001b[0;34m,\u001b[0m \u001b[0mmemo\u001b[0m\u001b[0;34m)\u001b[0m\u001b[0;34m\u001b[0m\u001b[0;34m\u001b[0m\u001b[0m\n",
      "\u001b[0;31mKeyboardInterrupt\u001b[0m: "
     ]
    }
   ],
   "source": [
    "df_result_GA = pd.DataFrame(columns=['style','demand','sol','Fitness','Cost','Runtime'])\n",
    "k, c_rate, m_rate,sc = (2,0.95,0.003,99) #parameters\n",
    "pop_size,generation=(200,200)\n",
    "for j in range(10):\n",
    "    for i in col:\n",
    "        demand=df[i].loc['Demand'].to_list()\n",
    "        demand=list(map(int,demand))\n",
    "        #print('demand=',demand)\n",
    "\n",
    "        d=0  #shortange allowance in Percentage\n",
    "        Q_b= Shortage_allowance(demand,d)\n",
    "\n",
    "        consumption=df[i].loc['Consumption'].to_list()\n",
    "        Y_b=list(map(float,consumption))\n",
    "\n",
    "        if len(Q_b)!=len(Y_b):\n",
    "            raise ValueError('number of sizes and number of fabric consumption does not match')\n",
    "\n",
    "        price=df[i].loc['Price/unit length'].to_list()\n",
    "        price=list(map(float,price))\n",
    "        f=price[0]\n",
    "\n",
    "        print(i,demand,Q_b,Y_b,f)\n",
    "        time_start = time.perf_counter()\n",
    "        Gbest = GA_with_TS_with_sc(pop_size=pop_size, generation=generation,k=k,m_rate=m_rate,c_rate=c_rate, sc=sc)\n",
    "        time_elapsed = (time.perf_counter() - time_start)\n",
    "        print(Gbest, 'time:', time_elapsed)\n",
    "        #P_cost,P_time= Process(Gbest)\n",
    "        df_result_GA=df_result_GA.append({'style':i,'demand':demand,'Cost': ObjectiveFunction(Gbest),'sol':Gbest,'Fitness':Gbest['F'],'Runtime': time_elapsed},\n",
    "                                         ignore_index=True)\n",
    "    #df_result_GA.to_excel('/Users/sharif-al-mahmud/Library/Mobile Documents/com~apple~CloudDocs/Thesis/Data/GA output for Tsao et al data.xlsx')"
   ]
  },
  {
   "cell_type": "code",
   "execution_count": null,
   "metadata": {},
   "outputs": [],
   "source": []
  },
  {
   "cell_type": "code",
   "execution_count": null,
   "metadata": {},
   "outputs": [],
   "source": [
    "df_result_GA"
   ]
  },
  {
   "cell_type": "code",
   "execution_count": null,
   "metadata": {},
   "outputs": [],
   "source": []
  },
  {
   "cell_type": "code",
   "execution_count": null,
   "metadata": {},
   "outputs": [],
   "source": []
  }
 ],
 "metadata": {
  "celltoolbar": "Raw Cell Format",
  "colab": {
   "provenance": []
  },
  "kernelspec": {
   "display_name": "Python 3",
   "language": "python",
   "name": "python3"
  },
  "language_info": {
   "codemirror_mode": {
    "name": "ipython",
    "version": 3
   },
   "file_extension": ".py",
   "mimetype": "text/x-python",
   "name": "python",
   "nbconvert_exporter": "python",
   "pygments_lexer": "ipython3",
   "version": "3.8.5"
  }
 },
 "nbformat": 4,
 "nbformat_minor": 1
}

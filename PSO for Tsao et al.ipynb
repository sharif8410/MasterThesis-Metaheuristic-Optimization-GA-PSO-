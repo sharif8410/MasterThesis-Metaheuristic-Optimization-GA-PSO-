{
 "cells": [
  {
   "cell_type": "code",
   "execution_count": 1,
   "metadata": {
    "id": "awE7E5l2HfFI"
   },
   "outputs": [],
   "source": [
    "demand = [990,1980,3961,2971,1980]   #value changes later \n",
    "d=0  # d% shortage allowance\n",
    "Y_b = [1.3086,1.3671,1.4183,1.4538,1.5122]           # Fabric yield (consumption rate) rate per garment of size 𝛽 #value changes later \n",
    "f= 1.95 # Fabric cost \n",
    "\n",
    "U = 1\n",
    "l_max= 20  #yrds\n",
    "e=0\n",
    "\n",
    "#Input variables (setup cost)\n",
    "c_s=500  #setup cost\n",
    "c_e=20. #excess production cost\n",
    "\n",
    "P_min, P_max= 4,40"
   ]
  },
  {
   "cell_type": "code",
   "execution_count": 2,
   "metadata": {
    "id": "NwCyYKuiHfFK"
   },
   "outputs": [],
   "source": [
    "import numpy as np\n",
    "import math\n",
    "import pandas as pd\n",
    "from copy import deepcopy\n",
    "rng = np.random.default_rng()\n",
    "import random\n",
    "import time\n",
    "import plotly.express as px\n",
    "import plotly.graph_objects as go\n",
    "from itertools import product"
   ]
  },
  {
   "cell_type": "code",
   "execution_count": 3,
   "metadata": {
    "id": "9FAAS8k6HfFK"
   },
   "outputs": [],
   "source": [
    "def Update_Res(R,GG,PP):\n",
    "    for s in range(len(GG)): #Updating Residual within the while loop\n",
    "        R=R-np.dot(GG[s],PP[s])\n",
    "    return R"
   ]
  },
  {
   "cell_type": "code",
   "execution_count": 4,
   "metadata": {
    "id": "sNjsataOHfFK"
   },
   "outputs": [],
   "source": [
    "def Length(g_i_j):\n",
    "    l_i = e+ np.dot(g_i_j,Y_b)/U\n",
    "    return l_i\n"
   ]
  },
  {
   "cell_type": "code",
   "execution_count": 5,
   "metadata": {
    "id": "ZSOfgUM_HfFK"
   },
   "outputs": [],
   "source": [
    "def Shortage_allowance(Q,d=0.01):\n",
    "    temp=np.dot((1-d),Q)\n",
    "    return [round(i) for i in temp]\n",
    "Q_b= Shortage_allowance(demand,d)\n",
    "\n",
    "# Q_b"
   ]
  },
  {
   "cell_type": "code",
   "execution_count": 6,
   "metadata": {
    "id": "iV6eqHoBHfFK"
   },
   "outputs": [],
   "source": [
    "from Heuristics import H1,H3,H5,H3_MB2016,H1_T2020"
   ]
  },
  {
   "cell_type": "markdown",
   "metadata": {
    "id": "FVMX7gnbHfFL"
   },
   "source": [
    "## Objective Function"
   ]
  },
  {
   "cell_type": "code",
   "execution_count": 9,
   "metadata": {
    "id": "8-y0ZSeGHfFL"
   },
   "outputs": [],
   "source": [
    "def ObjectiveFunction (chromosome):\n",
    "    \n",
    "    G_a_b = chromosome['G']\n",
    "    P_a = chromosome['P']\n",
    "    Alpha = len(P_a)             # number of Sections\n",
    "    \n",
    "\n",
    "    '''                         Fabric Cost                      '''\n",
    "        \n",
    "    # Total fabric length = L # Total Fabric Cost = C_F\n",
    "\n",
    "    l_a=[Length(G_a_b[alpha]) for alpha in range(Alpha) ] #Length function\n",
    "    L= np.dot(l_a,P_a)       #Multiply then Sum\n",
    "    C_F = L*f\n",
    "    #print('Total Fabric Cost = C_F: ',C_F,'Length:',L)\n",
    "    \n",
    "    \n",
    "    '''                        setup Cost                        '''\n",
    "    \n",
    "    \n",
    "    C_S = 0\n",
    "    for α in range(Alpha):\n",
    "        if l_a[α]>e:   # this makes sure that section has at least one garments \n",
    "            C_S += c_s       \n",
    "    #print('Total setup Cost = C_S: ',C_S)\n",
    "\n",
    "    '''                        excess production Cost                        '''\n",
    "        \n",
    "    \n",
    "    C_E=0\n",
    "    R=Update_Res(R=Q_b, GG=G_a_b, PP=P_a)\n",
    "    for r in R:\n",
    "        if r<0:\n",
    "            C_E += (-r* c_e)\n",
    "    #print('Total excess prod Cost = C_E: ',C_E) \n",
    "    \n",
    "    return C_F+C_S+C_E"
   ]
  },
  {
   "cell_type": "code",
   "execution_count": 10,
   "metadata": {
    "id": "Zoh8k2EtHfFM"
   },
   "outputs": [],
   "source": [
    "# ObjectiveFunction(Sol_1)"
   ]
  },
  {
   "cell_type": "markdown",
   "metadata": {},
   "source": [
    "### Time spend"
   ]
  },
  {
   "cell_type": "markdown",
   "metadata": {
    "id": "L7R9o9IwHfFM"
   },
   "source": [
    "## Fitness Score"
   ]
  },
  {
   "cell_type": "code",
   "execution_count": 11,
   "metadata": {
    "id": "6oNeO_u1HfFM"
   },
   "outputs": [],
   "source": [
    "def Fitness(chromosome): \n",
    "  \n",
    "    G_a_b= chromosome['G']\n",
    "    P_a = chromosome['P']\n",
    "    Beta= len(G_a_b[0])\n",
    "    \n",
    "    score= ObjectiveFunction(chromosome)\n",
    "    #print('score:',score)\n",
    "    fitness_score=score\n",
    "    \n",
    "                \n",
    "    '''       Penalty for shortage production           '''\n",
    "    R= Update_Res(R=demand,GG=G_a_b,PP=P_a)\n",
    "    for beta in range(Beta):\n",
    "        if R[beta]>0:\n",
    "            s_penalty= R[beta]/sum(demand)\n",
    "            fitness_score +=score*s_penalty/2 \n",
    "    \n",
    "    \n",
    "    '''       double check if the solution is valid       '''\n",
    "    res= Update_Res(R=Q_b,GG=G_a_b,PP=P_a)\n",
    "    if max(res)>0:\n",
    "        print('solution is unvalid in demand constraint')\n",
    "        fitness_score +=10000   #this will eventualy make the solution extinct.\n",
    "\n",
    "    for i in G_a_b:\n",
    "        if Length(i)>l_max:\n",
    "            print('breaking !! fitness !! solution is not valid in length constraint: ',i, Y_b, l_max,Length(i))\n",
    "            fitness_score +=10000\n",
    "    \n",
    "    return fitness_score\n",
    "\n",
    "# Fitness(Sol_1)    "
   ]
  },
  {
   "cell_type": "markdown",
   "metadata": {
    "id": "Nn7Yv_wKHfFM"
   },
   "source": [
    "## Function Initial Population Generation"
   ]
  },
  {
   "cell_type": "code",
   "execution_count": 12,
   "metadata": {
    "id": "rzEe7PNEHfFM"
   },
   "outputs": [
    {
     "data": {
      "text/plain": [
       "50"
      ]
     },
     "execution_count": 12,
     "metadata": {},
     "output_type": "execute_result"
    }
   ],
   "source": [
    "def GeneratePopulation(pop_size):\n",
    "    sol1=H3_MB2016(Q=Q_b,Y=Y_b,Pm=[P_min,P_max],U=U,e=e,l_max=l_max)\n",
    "    sol2=H1_T2020(Q=Q_b,Y=Y_b,Pm=[P_min,P_max],U=U,e=e,l_max=l_max)\n",
    "    P_of_S=[]\n",
    "    for sol in (sol1,sol2):\n",
    "        i=0\n",
    "        for g in sol['G']:\n",
    "            if Length(g)>l_max:\n",
    "                i+=1\n",
    "        if i==0:\n",
    "            P_of_S.append(sol)\n",
    "    \n",
    "    while len(P_of_S)<pop_size:\n",
    "        h=rng.integers(0,3)\n",
    "        #print('h:',h)\n",
    "        if h==0:\n",
    "            sol= H1(Q=Q_b,Y=Y_b,Pm=[P_min,P_max],U=U,e=e,l_max=l_max)\n",
    "\n",
    "        elif h==1:\n",
    "            sol=H3(Q=Q_b,Y=Y_b,Pm=[P_min,P_max],U=U,e=e,l_max=l_max)\n",
    "\n",
    "        else:\n",
    "            sol=H5(Q=Q_b,Y=Y_b,Pm=[P_min,P_max],U=U,e=e,l_max=l_max)\n",
    "        i=0\n",
    "        for g in sol['G']:\n",
    "            if Length(g)>l_max:\n",
    "                i+=1\n",
    "        if i==0:\n",
    "            P_of_S.append(sol)\n",
    "    return P_of_S\n",
    "Pool_of_Sol= GeneratePopulation(50)\n",
    "len(Pool_of_Sol)"
   ]
  },
  {
   "cell_type": "code",
   "execution_count": 13,
   "metadata": {
    "id": "TJo7ymnqHfFM"
   },
   "outputs": [],
   "source": [
    "def S_with_F(p_o_s):\n",
    "    for i in range(len(p_o_s)): \n",
    "        if 'F' not in p_o_s[i]:\n",
    "            p_o_s[i]['F']=Fitness(p_o_s[i])\n",
    "    return p_o_s"
   ]
  },
  {
   "cell_type": "markdown",
   "metadata": {
    "id": "3T21flXjHfFM"
   },
   "source": [
    "## PSO"
   ]
  },
  {
   "cell_type": "markdown",
   "metadata": {
    "id": "mIwi5bs5HfFM"
   },
   "source": [
    "### Cleaning section with zeros"
   ]
  },
  {
   "cell_type": "code",
   "execution_count": 14,
   "metadata": {
    "id": "twkZ188hHfFM"
   },
   "outputs": [],
   "source": [
    "def CleanZeros (Solution):\n",
    "    j=0\n",
    "    while j < len(Solution['G']):\n",
    "        if max(Solution['G'][j])==0:\n",
    "            Solution['G'].pop(j)\n",
    "            Solution['P'].pop(j)\n",
    "            continue\n",
    "        j+=1\n",
    "\n",
    "    #This is to make sure \n",
    "    if len(Solution['G'])!=len(Solution['P']):\n",
    "        raise ValueError('P and G lengths are not same')\n",
    "    \n",
    "    return Solution"
   ]
  },
  {
   "cell_type": "code",
   "execution_count": 15,
   "metadata": {
    "id": "heybRgylHfFM"
   },
   "outputs": [],
   "source": [
    "# CleanZeros(Sol_1)"
   ]
  },
  {
   "cell_type": "markdown",
   "metadata": {
    "id": "CSMJ-jRjHfFM"
   },
   "source": [
    "## Velocity Update (Jarboui et al. 2008)"
   ]
  },
  {
   "cell_type": "markdown",
   "metadata": {
    "id": "eCzHNBfjHfFM"
   },
   "source": [
    "Lets assume 1st sol as X, 2nd Sol as Pbest, and 3rd Sol as Gbest"
   ]
  },
  {
   "cell_type": "markdown",
   "metadata": {
    "id": "k8-L-xqGHfFN"
   },
   "source": [
    "#### Now we have to calculate Y"
   ]
  },
  {
   "cell_type": "markdown",
   "metadata": {
    "id": "o25fIWL7HfFN"
   },
   "source": [
    "##### Initial Velocity generator"
   ]
  },
  {
   "cell_type": "code",
   "execution_count": 16,
   "metadata": {
    "id": "5V5yA1dxHfFN"
   },
   "outputs": [],
   "source": [
    "def initial_velocity(Range, Sol): #Range is a list\n",
    "    a,b= Range\n",
    "    m=len(Sol['G'])\n",
    "    \n",
    "    #generate a random uniform array  [-a,b] of the same size of the solutions \n",
    "    \n",
    "    v=(b-a) * np.random.random_sample(m) +a  #http://bit.ly/3To2OWe\n",
    "    v=v.tolist()\n",
    "    \n",
    "    return {'V':v}"
   ]
  },
  {
   "cell_type": "code",
   "execution_count": 17,
   "metadata": {
    "id": "3w0EJ3ubHfFN"
   },
   "outputs": [],
   "source": [
    "def Get_Y(X,GBest,PBest): #(Jarboui et al., 2008, p. 302)\n",
    "    y=[]\n",
    "    lens=[len(i) for i in [X['G'],GBest['G'],PBest['G']]]\n",
    "    min_len=min(lens)\n",
    "    \n",
    "    for i in range(min_len):\n",
    "        if X['G'][i]==GBest['G'][i] and X['G'][i]==PBest['G'][i]:\n",
    "            y.append(random.choice([-1,1]))\n",
    "        elif X['G'][i]==GBest['G'][i]:\n",
    "            y.append(1)\n",
    "        elif X['G'][i]==PBest['G'][i]:\n",
    "            y.append(-1)\n",
    "        else:\n",
    "            y.append(0)\n",
    "        \n",
    "    return {'Y':y}"
   ]
  },
  {
   "cell_type": "markdown",
   "metadata": {
    "id": "6dGTzIHMHfFN"
   },
   "source": [
    "### Now we have to calculate Velocity"
   ]
  },
  {
   "cell_type": "code",
   "execution_count": 18,
   "metadata": {
    "id": "oAR4a3ulHfFN"
   },
   "outputs": [],
   "source": [
    "def New_V(Y,V,c1=1,c2=1,w=.75): #Parameter setting: (Jarboui et al., 2008, p. 306)\n",
    "\n",
    "    for i in range(len(Y['Y'])):\n",
    "        y=Y['Y'][i]\n",
    "        v=V['V'][i]\n",
    "        V['V'][i]= w*v+ rng.random()*c1*(-1-y)+rng.random()*c2*(1-y)\n",
    "        \n",
    "    return V"
   ]
  },
  {
   "cell_type": "markdown",
   "metadata": {
    "id": "v-Y9o-dgHfFN"
   },
   "source": [
    "### Now we need to calculate λ"
   ]
  },
  {
   "cell_type": "code",
   "execution_count": 19,
   "metadata": {
    "id": "tbe3iZvBHfFN"
   },
   "outputs": [],
   "source": [
    "def Get_λ(Y,V):\n",
    "    λ=[]\n",
    "    for i in range(len(Y['Y'])):\n",
    "        λ.append(Y['Y'][i]+V['V'][i])\n",
    "    return {'λ':λ}\n",
    "# λ=Get_λ(Y,V)\n",
    "# λ"
   ]
  },
  {
   "cell_type": "markdown",
   "metadata": {
    "id": "Ii-mjNiPHfFN"
   },
   "source": [
    "### Update X with Eq-10 (Jarboui et al., 2008, p. 303)"
   ]
  },
  {
   "cell_type": "code",
   "execution_count": 20,
   "metadata": {
    "id": "MsMgTZgDHfFN"
   },
   "outputs": [],
   "source": [
    "def Perturbation(xg,xp,R,p_rate):\n",
    "    \n",
    "    if rng.random()<p_rate:\n",
    "        p1,p2=sorted([xp,min(P_max,max(P_min,max(R)))])\n",
    "        xp= rng.integers(p1,p2+1)\n",
    "    for j in range(len(xg)): #small purtubration (like mutaion)\n",
    "        if rng.random()<p_rate:\n",
    "            xg[j]=0\n",
    "            temp= min(math.ceil(R[j]/xp),math.floor((l_max-Length(xg))/(Y_b[j]/U)))\n",
    "            temp= max(0,temp)\n",
    "            #xg[j]=max(0,temp)\n",
    "            xg[j]=rng.integers(0,temp+1)\n",
    "        if R[j]<=0 and xg[j]>0:\n",
    "            xg[j]=0\n",
    "            \n",
    "    return xg,xp\n",
    "\n",
    "def Update_X(X,GBest,PBest,λ, ϕ=0.5, p_rate=.1):\n",
    "\n",
    "    XG=[]\n",
    "    XP=[]\n",
    "    R= Q_b\n",
    "    for i in range(len(λ['λ'])):\n",
    "        if λ['λ'][i] > ϕ:\n",
    "            #print('Gbest')\n",
    "            \n",
    "            xg=GBest['G'][i]\n",
    "            xp=GBest['P'][i]\n",
    "                           \n",
    "        elif λ['λ'][i] < -ϕ:\n",
    "            #print('Pbest')\n",
    "            \n",
    "            xg=PBest['G'][i]\n",
    "            xp=PBest['P'][i]\n",
    "\n",
    "\n",
    "        else:\n",
    "            #print('X')\n",
    "            xg,xp= Perturbation(xg=X['G'][i],xp=X['P'][i],R=R,p_rate=p_rate) #Perturbation function\n",
    "\n",
    "        \n",
    "        if max(xg)>0:    \n",
    "            XG.append(xg)\n",
    "            XP.append(xp)\n",
    "        \n",
    "        R= Update_Res(R=Q_b,GG=XG,PP=XP)\n",
    "        if max(R)<=0:\n",
    "            return {'G':XG,'P':XP}\n",
    "  \n",
    "    for i in range(len(λ['λ']), len(X['G'])):        \n",
    "        xg,xp= Perturbation(xg=X['G'][i],xp=X['P'][i],R=R, p_rate=p_rate) #Perturbation function\n",
    "        \n",
    "        if max(xg)>0:\n",
    "            XG.append(xg)\n",
    "            XP.append(xp)\n",
    "        R= Update_Res(R=Q_b,GG=XG,PP=XP)\n",
    "        if max(R)<=0:\n",
    "            return {'G':XG,'P':XP}\n",
    "\n",
    "    h=H1(Q=R,Y=Y_b,Pm=[P_min,P_max],U=U,e=e,l_max=l_max)\n",
    "        \n",
    "    g= h['G']\n",
    "    p = h['P']    \n",
    "    #print()\n",
    "    #print(g,p) \n",
    "    #print()\n",
    "    XG=XG+g\n",
    "    XP=XP+p\n",
    "\n",
    "    return {'G':XG,'P':XP}\n",
    "# newX= Update_X(X,Gbest,Pbest,newY)\n",
    "# newX"
   ]
  },
  {
   "cell_type": "code",
   "execution_count": null,
   "metadata": {
    "id": "3r8yiDDfHfFN"
   },
   "outputs": [],
   "source": []
  },
  {
   "cell_type": "code",
   "execution_count": 21,
   "metadata": {
    "id": "5ZbEbsoHHfFN"
   },
   "outputs": [],
   "source": [
    "def Update_dimension(XX,VV, in_vel_range=[-0.5,0.5]):\n",
    "    mm= len(XX['G'])\n",
    "    m= len(VV['V'])\n",
    "    \n",
    "    if mm <= m:\n",
    "        return {'V':VV['V'][:m]}\n",
    "    else:\n",
    "        a,b= in_vel_range\n",
    "        v=(b-a) * np.random.random_sample(mm-m) +a  #http://bit.ly/3To2OWe\n",
    "        v=v.tolist()\n",
    "        V=VV['V']+v\n",
    "        return {'V':V}"
   ]
  },
  {
   "cell_type": "code",
   "execution_count": null,
   "metadata": {
    "id": "hD93JexXHfFN"
   },
   "outputs": [],
   "source": []
  },
  {
   "cell_type": "code",
   "execution_count": 22,
   "metadata": {
    "id": "F6FEhesQkh2_"
   },
   "outputs": [],
   "source": [
    "def Get_Gbest(p_o_s):\n",
    "    gbest=p_o_s[0]\n",
    "    for i in range(len(p_o_s)):\n",
    "        if p_o_s[i]['F']<gbest['F']:\n",
    "            gbest= deepcopy(p_o_s[i])\n",
    "    return gbest"
   ]
  },
  {
   "cell_type": "code",
   "execution_count": 23,
   "metadata": {
    "id": "7E1km8Z7HfFN"
   },
   "outputs": [],
   "source": [
    "# newX= Update_X(X,Gbest,Pbest,newY)\n",
    "# newX"
   ]
  },
  {
   "cell_type": "code",
   "execution_count": 24,
   "metadata": {
    "id": "VszDIWfCHfFO"
   },
   "outputs": [],
   "source": [
    "# Fitness(newX)"
   ]
  },
  {
   "cell_type": "code",
   "execution_count": 25,
   "metadata": {
    "id": "-_e1ANKFHfFO"
   },
   "outputs": [],
   "source": [
    "#Pool_of_Sol"
   ]
  },
  {
   "cell_type": "code",
   "execution_count": null,
   "metadata": {
    "id": "w4EoEZPeHfFO"
   },
   "outputs": [],
   "source": []
  },
  {
   "cell_type": "markdown",
   "metadata": {
    "id": "SWnHjckVHfFO"
   },
   "source": [
    "# Main PSO"
   ]
  },
  {
   "cell_type": "code",
   "execution_count": null,
   "metadata": {
    "id": "TTtUapCNf6cv"
   },
   "outputs": [],
   "source": []
  },
  {
   "cell_type": "code",
   "execution_count": 26,
   "metadata": {
    "id": "GquEnwC-HfFO"
   },
   "outputs": [],
   "source": [
    "def PSO(swarmsize,iteration,ϕ=.7,c1=2,c2=2,w=1,p_rate=.2):\n",
    "    \n",
    "    P_of_S= GeneratePopulation(swarmsize)\n",
    "    P_of_S= S_with_F(P_of_S)\n",
    "    P_of_Pbest=P_of_S\n",
    "    \n",
    "    in_vel_range=[-ϕ,ϕ]\n",
    "    P_of_Velocity= [initial_velocity(in_vel_range,P_of_S[i]) for i in range(len(P_of_S))]\n",
    "    \n",
    "    Gbest=Get_Gbest(P_of_S)\n",
    "    sc=0\n",
    "    bests=[Gbest['F']]\n",
    "    for i in range(iteration):\n",
    "        for j in range(len(P_of_S)):\n",
    "            X=P_of_S[j]\n",
    "            Pbest=P_of_Pbest[j]\n",
    "            V= P_of_Velocity[j]\n",
    "            Y= Get_Y(X=X,GBest=Gbest,PBest=Pbest)\n",
    "\n",
    "            newV= New_V(Y=Y,V=V,c1=c1,c2=c2,w=w)\n",
    "            \n",
    "            λ= Get_λ(Y=Y,V=newV)\n",
    "\n",
    "            newX= Update_X(X=X,GBest=Gbest,PBest=Pbest,λ=λ,ϕ=ϕ, p_rate=p_rate)\n",
    "            newX['F']= Fitness(newX)\n",
    "\n",
    "            P_of_S[j]=deepcopy(newX)\n",
    "            \n",
    "            newV= Update_dimension(XX=newX,VV= newV, in_vel_range=in_vel_range)\n",
    "            P_of_Velocity[j]= deepcopy(newV)\n",
    "            \n",
    "            if newX['F'] < Pbest['F']:\n",
    "                P_of_Pbest[j]= deepcopy(newX)\n",
    "            if newX['F'] < Gbest['F']:\n",
    "                Gbest=deepcopy(newX)\n",
    "                sc=i\n",
    "        #print(Gbest, Fitness(Gbest))\n",
    "        bests.append(Gbest['F'])\n",
    "    \n",
    "    # xx=[i for i in range(len(bests))]\n",
    "    # fig=px.line(x=xx,\n",
    "    #             y=bests,\n",
    "    #             title=f'swarmsize={swarmsize},iteration= {iteration},ϕ={ϕ},c1= {c1},c2={c2},w={w}, Gbest={bests[-1]}',\n",
    "    #             labels=dict(x='iteration',y='fitness'))\n",
    "    # fig.show()\n",
    "    \n",
    "    return CleanZeros(Gbest),sc\n",
    "# PSO(swarmsize=150,iteration=250)"
   ]
  },
  {
   "cell_type": "markdown",
   "metadata": {},
   "source": [
    "## Application to problems"
   ]
  },
  {
   "cell_type": "code",
   "execution_count": 30,
   "metadata": {
    "id": "zLU3LaqxaQ6l"
   },
   "outputs": [
    {
     "data": {
      "text/html": [
       "<div>\n",
       "<style scoped>\n",
       "    .dataframe tbody tr th:only-of-type {\n",
       "        vertical-align: middle;\n",
       "    }\n",
       "\n",
       "    .dataframe tbody tr th {\n",
       "        vertical-align: top;\n",
       "    }\n",
       "\n",
       "    .dataframe thead th {\n",
       "        text-align: right;\n",
       "    }\n",
       "</style>\n",
       "<table border=\"1\" class=\"dataframe\">\n",
       "  <thead>\n",
       "    <tr style=\"text-align: right;\">\n",
       "      <th>Style</th>\n",
       "      <th>S4</th>\n",
       "      <th>S4</th>\n",
       "      <th>S4</th>\n",
       "      <th>S4</th>\n",
       "      <th>S5</th>\n",
       "      <th>S5</th>\n",
       "      <th>S5</th>\n",
       "      <th>S5</th>\n",
       "      <th>S5</th>\n",
       "      <th>S7</th>\n",
       "      <th>...</th>\n",
       "      <th>B5</th>\n",
       "      <th>B5</th>\n",
       "      <th>B5</th>\n",
       "      <th>B7</th>\n",
       "      <th>B7</th>\n",
       "      <th>B7</th>\n",
       "      <th>B7</th>\n",
       "      <th>B7</th>\n",
       "      <th>B7</th>\n",
       "      <th>B7</th>\n",
       "    </tr>\n",
       "  </thead>\n",
       "  <tbody>\n",
       "    <tr>\n",
       "      <th>Demand</th>\n",
       "      <td>80.00</td>\n",
       "      <td>95.000</td>\n",
       "      <td>58.000</td>\n",
       "      <td>28.0</td>\n",
       "      <td>25.00</td>\n",
       "      <td>95.000</td>\n",
       "      <td>145.000</td>\n",
       "      <td>130.0</td>\n",
       "      <td>25.000</td>\n",
       "      <td>8.00</td>\n",
       "      <td>...</td>\n",
       "      <td>12498.0</td>\n",
       "      <td>2256.000</td>\n",
       "      <td>569.000</td>\n",
       "      <td>6780.00</td>\n",
       "      <td>14526.000</td>\n",
       "      <td>16473.000</td>\n",
       "      <td>18767.0</td>\n",
       "      <td>112498.000</td>\n",
       "      <td>8569.000</td>\n",
       "      <td>6532.0</td>\n",
       "    </tr>\n",
       "    <tr>\n",
       "      <th>Consumption</th>\n",
       "      <td>1.42</td>\n",
       "      <td>1.441</td>\n",
       "      <td>1.462</td>\n",
       "      <td>1.5</td>\n",
       "      <td>1.42</td>\n",
       "      <td>1.441</td>\n",
       "      <td>1.462</td>\n",
       "      <td>1.5</td>\n",
       "      <td>1.523</td>\n",
       "      <td>1.42</td>\n",
       "      <td>...</td>\n",
       "      <td>1.5</td>\n",
       "      <td>1.523</td>\n",
       "      <td>1.634</td>\n",
       "      <td>1.42</td>\n",
       "      <td>1.441</td>\n",
       "      <td>1.462</td>\n",
       "      <td>1.5</td>\n",
       "      <td>1.523</td>\n",
       "      <td>1.634</td>\n",
       "      <td>1.7</td>\n",
       "    </tr>\n",
       "    <tr>\n",
       "      <th>Price/unit length</th>\n",
       "      <td>10.00</td>\n",
       "      <td>NaN</td>\n",
       "      <td>NaN</td>\n",
       "      <td>NaN</td>\n",
       "      <td>10.00</td>\n",
       "      <td>NaN</td>\n",
       "      <td>NaN</td>\n",
       "      <td>NaN</td>\n",
       "      <td>NaN</td>\n",
       "      <td>10.00</td>\n",
       "      <td>...</td>\n",
       "      <td>NaN</td>\n",
       "      <td>NaN</td>\n",
       "      <td>NaN</td>\n",
       "      <td>10.00</td>\n",
       "      <td>NaN</td>\n",
       "      <td>NaN</td>\n",
       "      <td>NaN</td>\n",
       "      <td>NaN</td>\n",
       "      <td>NaN</td>\n",
       "      <td>NaN</td>\n",
       "    </tr>\n",
       "  </tbody>\n",
       "</table>\n",
       "<p>3 rows × 49 columns</p>\n",
       "</div>"
      ],
      "text/plain": [
       "Style                 S4      S4      S4    S4     S5      S5       S5     S5  \\\n",
       "Demand             80.00  95.000  58.000  28.0  25.00  95.000  145.000  130.0   \n",
       "Consumption         1.42   1.441   1.462   1.5   1.42   1.441    1.462    1.5   \n",
       "Price/unit length  10.00     NaN     NaN   NaN  10.00     NaN      NaN    NaN   \n",
       "\n",
       "Style                  S5     S7  ...       B5        B5       B5       B7  \\\n",
       "Demand             25.000   8.00  ...  12498.0  2256.000  569.000  6780.00   \n",
       "Consumption         1.523   1.42  ...      1.5     1.523    1.634     1.42   \n",
       "Price/unit length     NaN  10.00  ...      NaN       NaN      NaN    10.00   \n",
       "\n",
       "Style                     B7         B7       B7          B7        B7      B7  \n",
       "Demand             14526.000  16473.000  18767.0  112498.000  8569.000  6532.0  \n",
       "Consumption            1.441      1.462      1.5       1.523     1.634     1.7  \n",
       "Price/unit length        NaN        NaN      NaN         NaN       NaN     NaN  \n",
       "\n",
       "[3 rows x 49 columns]"
      ]
     },
     "execution_count": 30,
     "metadata": {},
     "output_type": "execute_result"
    }
   ],
   "source": [
    "path='/Users/sharif-al-mahmud/Library/Mobile Documents/com~apple~CloudDocs/Thesis/Data/DataSets.xlsx'\n",
    "\n",
    "df=pd.read_excel(path,sheet_name='Sheet4',index_col=[0])\n",
    "\n",
    "df=df.T\n",
    "\n",
    "df.columns = df.columns.str.strip()\n",
    "\n",
    "col=list(df.columns)\n",
    "col= sorted(set(col), key=col.index)\n",
    "\n",
    "\n",
    "df"
   ]
  },
  {
   "cell_type": "code",
   "execution_count": 31,
   "metadata": {
    "id": "zLU3LaqxaQ6l"
   },
   "outputs": [
    {
     "data": {
      "text/plain": [
       "['S4', 'S5', 'S7', 'M4', 'M5', 'M7', 'B4', 'B5', 'B7']"
      ]
     },
     "execution_count": 31,
     "metadata": {},
     "output_type": "execute_result"
    }
   ],
   "source": [
    "col"
   ]
  },
  {
   "cell_type": "code",
   "execution_count": 32,
   "metadata": {},
   "outputs": [],
   "source": [
    "def PSO_with_sc(swarmsize,iteration,ϕ=.7,c1=2,c2=2,w=1,p_rate=.2,sc=100):\n",
    "    \n",
    "    P_of_S= GeneratePopulation(swarmsize)\n",
    "    P_of_S= S_with_F(P_of_S)\n",
    "    P_of_Pbest=P_of_S\n",
    "    \n",
    "    in_vel_range=[-ϕ,ϕ]\n",
    "    P_of_Velocity= [initial_velocity(in_vel_range,P_of_S[i]) for i in range(len(P_of_S))]\n",
    "    \n",
    "    Gbest=Get_Gbest(P_of_S)\n",
    "    it=0\n",
    "    bests=[Gbest['F']]\n",
    "    for i in range(iteration):\n",
    "        for j in range(len(P_of_S)):\n",
    "            X=P_of_S[j]\n",
    "            Pbest=P_of_Pbest[j]\n",
    "            V= P_of_Velocity[j]\n",
    "            Y= Get_Y(X=X,GBest=Gbest,PBest=Pbest)\n",
    "\n",
    "            newV= New_V(Y=Y,V=V,c1=c1,c2=c2,w=w)\n",
    "            \n",
    "            λ= Get_λ(Y=Y,V=newV)\n",
    "\n",
    "            newX= Update_X(X=X,GBest=Gbest,PBest=Pbest,λ=λ,ϕ=ϕ, p_rate=p_rate)\n",
    "            newX['F']= Fitness(newX)\n",
    "\n",
    "            P_of_S[j]=deepcopy(newX)\n",
    "            \n",
    "            newV= Update_dimension(XX=newX,VV= newV, in_vel_range=in_vel_range)\n",
    "            P_of_Velocity[j]= deepcopy(newV)\n",
    "            \n",
    "            if newX['F'] < Pbest['F']:\n",
    "                P_of_Pbest[j]= deepcopy(newX)\n",
    "            if newX['F'] < Gbest['F']:\n",
    "                Gbest=deepcopy(newX)\n",
    "\n",
    "        #print(Gbest, Fitness(Gbest))\n",
    "        bests.append(Gbest['F'])\n",
    "        if bests[-1] < bests[-2]:\n",
    "            it=0\n",
    "        else:\n",
    "            it+=1\n",
    "        if it>sc:\n",
    "            break\n",
    "    \n",
    "#     xx=[i for i in range(len(bests))]\n",
    "#     fig=px.line(x=xx,\n",
    "#                 y=bests,\n",
    "#                 title=f'swarmsize={swarmsize},iteration= {iteration},ϕ={ϕ},c1= {c1},c2={c2},w={w}, Gbest={bests[-1]}',\n",
    "#                 labels=dict(x='iteration',y='fitness'))\n",
    "#     fig.show()\n",
    "    \n",
    "    return CleanZeros(Gbest)\n",
    "# PSO(swarmsize=150,iteration=250)"
   ]
  },
  {
   "cell_type": "markdown",
   "metadata": {},
   "source": [
    "## Selected Parameters : \n",
    "* c1=c2= 2, \n",
    "* ϕ= 0.5, \n",
    "* w= 0.4, \n",
    "* p_rate=0.2 \n",
    "* sc=90 (stoping criteria)\n",
    "* swarmsize= 250 \n",
    "* iteration= 200"
   ]
  },
  {
   "cell_type": "code",
   "execution_count": null,
   "metadata": {
    "id": "zLU3LaqxaQ6l"
   },
   "outputs": [
    {
     "name": "stdout",
     "output_type": "stream",
     "text": [
      "B7 [6780, 14526, 16473, 18767, 112498, 8569, 6532] [6780, 14526, 16473, 18767, 112498, 8569, 6532] [1.42, 1.441, 1.462, 1.5, 1.523, 1.634, 1.7] 10.0\n"
     ]
    }
   ],
   "source": [
    "df_result_PSO = pd.DataFrame(columns=['style','demand','sol','Fitness','Cost','Runtime','P_cost','P_time'])\n",
    "\n",
    "c1,c2= 2,2 \n",
    "ϕ= 0.5\n",
    "w= 0.4 \n",
    "p_rate=0.2 \n",
    "sc=90 #stoping criteria\n",
    "swarmsize= 250 \n",
    "iteration= 200  #parameters\n",
    "for j in range(10):\n",
    "    for i in col:\n",
    "        demand=df[i].loc['Demand'].to_list()\n",
    "        demand=list(map(int,demand))\n",
    "        #print('demand=',demand)\n",
    "\n",
    "        d=0\n",
    "        Q_b= Shortage_allowance(demand,d)\n",
    "\n",
    "        consumption=df[i].loc['Consumption'].to_list()\n",
    "        Y_b=list(map(float,consumption))\n",
    "        #print('consumption=',Y_b)\n",
    "\n",
    "        price=df[i].loc['Price/unit length'].to_list()\n",
    "        price=list(map(float,price))\n",
    "        f=price[0]\n",
    "\n",
    "        print(i,demand,Q_b,Y_b,f)\n",
    "        time_start = time.perf_counter()\n",
    "        Gbest = PSO_with_sc(swarmsize=swarmsize,iteration=iteration,ϕ=ϕ,c1=c1,c2=c2,w=w,p_rate=p_rate,sc=sc)\n",
    "        time_elapsed = (time.perf_counter() - time_start)\n",
    "        print(Gbest, 'time:', time_elapsed)\n",
    "        df_result_PSO=df_result_PSO.append({'style':i,'demand':demand,'Cost': ObjectiveFunction(Gbest),'sol':Gbest,\n",
    "                                            'Fitness':Gbest['F'],'Runtime': time_elapsed},\n",
    "                                           ignore_index=True)\n",
    "    df_result_PSO.to_excel('/Users/sharif-al-mahmud/Library/Mobile Documents/com~apple~CloudDocs/Thesis/Data/PSO output for Tsao et al data.xlsx')"
   ]
  },
  {
   "cell_type": "code",
   "execution_count": null,
   "metadata": {},
   "outputs": [],
   "source": [
    "df_result_PSO"
   ]
  }
 ],
 "metadata": {
  "celltoolbar": "Raw Cell Format",
  "colab": {
   "collapsed_sections": [
    "L7R9o9IwHfFM",
    "Nn7Yv_wKHfFM",
    "3T21flXjHfFM",
    "mIwi5bs5HfFM",
    "CSMJ-jRjHfFM",
    "k8-L-xqGHfFN",
    "6dGTzIHMHfFN",
    "v-Y9o-dgHfFN",
    "Ii-mjNiPHfFN"
   ],
   "provenance": []
  },
  "kernelspec": {
   "display_name": "Python 3",
   "language": "python",
   "name": "python3"
  },
  "language_info": {
   "codemirror_mode": {
    "name": "ipython",
    "version": 3
   },
   "file_extension": ".py",
   "mimetype": "text/x-python",
   "name": "python",
   "nbconvert_exporter": "python",
   "pygments_lexer": "ipython3",
   "version": "3.8.5"
  }
 },
 "nbformat": 4,
 "nbformat_minor": 1
}
